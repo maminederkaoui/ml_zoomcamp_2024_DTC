{
 "cells": [
  {
   "cell_type": "markdown",
   "id": "0495301e-012d-4508-8529-bcc814dd4550",
   "metadata": {},
   "source": [
    "# Homework for module 3"
   ]
  },
  {
   "cell_type": "code",
   "execution_count": 41,
   "id": "76f0dce5-5c5c-4624-a31e-bb24df68b02d",
   "metadata": {},
   "outputs": [],
   "source": [
    "import pandas as pd\n",
    "import numpy as np\n",
    "\n",
    "import seaborn as sns\n",
    "from matplotlib import pyplot as plt"
   ]
  },
  {
   "cell_type": "code",
   "execution_count": 42,
   "id": "293006d3-2471-4b5c-a617-a511e6a1894b",
   "metadata": {},
   "outputs": [],
   "source": [
    "df_raw = pd.read_csv(r\"C:\\Users\\mderkaoui\\OneDrive\\ml_zoomcamp_dtc\\ml_zoomcamp_2024_DTC\\Churn_prediction_project\\homework\\bank+marketing\\bank\\bank.csv\", delimiter =\";\")"
   ]
  },
  {
   "cell_type": "code",
   "execution_count": 43,
   "id": "f162c85d-f565-4eb6-be58-33b955538552",
   "metadata": {},
   "outputs": [
    {
     "data": {
      "text/html": [
       "<div>\n",
       "<style scoped>\n",
       "    .dataframe tbody tr th:only-of-type {\n",
       "        vertical-align: middle;\n",
       "    }\n",
       "\n",
       "    .dataframe tbody tr th {\n",
       "        vertical-align: top;\n",
       "    }\n",
       "\n",
       "    .dataframe thead th {\n",
       "        text-align: right;\n",
       "    }\n",
       "</style>\n",
       "<table border=\"1\" class=\"dataframe\">\n",
       "  <thead>\n",
       "    <tr style=\"text-align: right;\">\n",
       "      <th></th>\n",
       "      <th>age</th>\n",
       "      <th>job</th>\n",
       "      <th>marital</th>\n",
       "      <th>education</th>\n",
       "      <th>default</th>\n",
       "      <th>balance</th>\n",
       "      <th>housing</th>\n",
       "      <th>loan</th>\n",
       "      <th>contact</th>\n",
       "      <th>day</th>\n",
       "      <th>month</th>\n",
       "      <th>duration</th>\n",
       "      <th>campaign</th>\n",
       "      <th>pdays</th>\n",
       "      <th>previous</th>\n",
       "      <th>poutcome</th>\n",
       "      <th>y</th>\n",
       "    </tr>\n",
       "  </thead>\n",
       "  <tbody>\n",
       "    <tr>\n",
       "      <th>0</th>\n",
       "      <td>30</td>\n",
       "      <td>unemployed</td>\n",
       "      <td>married</td>\n",
       "      <td>primary</td>\n",
       "      <td>no</td>\n",
       "      <td>1787</td>\n",
       "      <td>no</td>\n",
       "      <td>no</td>\n",
       "      <td>cellular</td>\n",
       "      <td>19</td>\n",
       "      <td>oct</td>\n",
       "      <td>79</td>\n",
       "      <td>1</td>\n",
       "      <td>-1</td>\n",
       "      <td>0</td>\n",
       "      <td>unknown</td>\n",
       "      <td>no</td>\n",
       "    </tr>\n",
       "    <tr>\n",
       "      <th>1</th>\n",
       "      <td>33</td>\n",
       "      <td>services</td>\n",
       "      <td>married</td>\n",
       "      <td>secondary</td>\n",
       "      <td>no</td>\n",
       "      <td>4789</td>\n",
       "      <td>yes</td>\n",
       "      <td>yes</td>\n",
       "      <td>cellular</td>\n",
       "      <td>11</td>\n",
       "      <td>may</td>\n",
       "      <td>220</td>\n",
       "      <td>1</td>\n",
       "      <td>339</td>\n",
       "      <td>4</td>\n",
       "      <td>failure</td>\n",
       "      <td>no</td>\n",
       "    </tr>\n",
       "    <tr>\n",
       "      <th>2</th>\n",
       "      <td>35</td>\n",
       "      <td>management</td>\n",
       "      <td>single</td>\n",
       "      <td>tertiary</td>\n",
       "      <td>no</td>\n",
       "      <td>1350</td>\n",
       "      <td>yes</td>\n",
       "      <td>no</td>\n",
       "      <td>cellular</td>\n",
       "      <td>16</td>\n",
       "      <td>apr</td>\n",
       "      <td>185</td>\n",
       "      <td>1</td>\n",
       "      <td>330</td>\n",
       "      <td>1</td>\n",
       "      <td>failure</td>\n",
       "      <td>no</td>\n",
       "    </tr>\n",
       "    <tr>\n",
       "      <th>3</th>\n",
       "      <td>30</td>\n",
       "      <td>management</td>\n",
       "      <td>married</td>\n",
       "      <td>tertiary</td>\n",
       "      <td>no</td>\n",
       "      <td>1476</td>\n",
       "      <td>yes</td>\n",
       "      <td>yes</td>\n",
       "      <td>unknown</td>\n",
       "      <td>3</td>\n",
       "      <td>jun</td>\n",
       "      <td>199</td>\n",
       "      <td>4</td>\n",
       "      <td>-1</td>\n",
       "      <td>0</td>\n",
       "      <td>unknown</td>\n",
       "      <td>no</td>\n",
       "    </tr>\n",
       "    <tr>\n",
       "      <th>4</th>\n",
       "      <td>59</td>\n",
       "      <td>blue-collar</td>\n",
       "      <td>married</td>\n",
       "      <td>secondary</td>\n",
       "      <td>no</td>\n",
       "      <td>0</td>\n",
       "      <td>yes</td>\n",
       "      <td>no</td>\n",
       "      <td>unknown</td>\n",
       "      <td>5</td>\n",
       "      <td>may</td>\n",
       "      <td>226</td>\n",
       "      <td>1</td>\n",
       "      <td>-1</td>\n",
       "      <td>0</td>\n",
       "      <td>unknown</td>\n",
       "      <td>no</td>\n",
       "    </tr>\n",
       "  </tbody>\n",
       "</table>\n",
       "</div>"
      ],
      "text/plain": [
       "   age          job  marital  education default  balance housing loan  \\\n",
       "0   30   unemployed  married    primary      no     1787      no   no   \n",
       "1   33     services  married  secondary      no     4789     yes  yes   \n",
       "2   35   management   single   tertiary      no     1350     yes   no   \n",
       "3   30   management  married   tertiary      no     1476     yes  yes   \n",
       "4   59  blue-collar  married  secondary      no        0     yes   no   \n",
       "\n",
       "    contact  day month  duration  campaign  pdays  previous poutcome   y  \n",
       "0  cellular   19   oct        79         1     -1         0  unknown  no  \n",
       "1  cellular   11   may       220         1    339         4  failure  no  \n",
       "2  cellular   16   apr       185         1    330         1  failure  no  \n",
       "3   unknown    3   jun       199         4     -1         0  unknown  no  \n",
       "4   unknown    5   may       226         1     -1         0  unknown  no  "
      ]
     },
     "execution_count": 43,
     "metadata": {},
     "output_type": "execute_result"
    }
   ],
   "source": [
    "df_raw.head()"
   ]
  },
  {
   "cell_type": "code",
   "execution_count": 44,
   "id": "a592a668-4aec-4597-aedd-41563303af6c",
   "metadata": {},
   "outputs": [
    {
     "data": {
      "text/html": [
       "<div>\n",
       "<style scoped>\n",
       "    .dataframe tbody tr th:only-of-type {\n",
       "        vertical-align: middle;\n",
       "    }\n",
       "\n",
       "    .dataframe tbody tr th {\n",
       "        vertical-align: top;\n",
       "    }\n",
       "\n",
       "    .dataframe thead th {\n",
       "        text-align: right;\n",
       "    }\n",
       "</style>\n",
       "<table border=\"1\" class=\"dataframe\">\n",
       "  <thead>\n",
       "    <tr style=\"text-align: right;\">\n",
       "      <th></th>\n",
       "      <th>age</th>\n",
       "      <th>job</th>\n",
       "      <th>marital</th>\n",
       "      <th>education</th>\n",
       "      <th>balance</th>\n",
       "      <th>housing</th>\n",
       "      <th>contact</th>\n",
       "      <th>day</th>\n",
       "      <th>month</th>\n",
       "      <th>duration</th>\n",
       "      <th>campaign</th>\n",
       "      <th>pdays</th>\n",
       "      <th>previous</th>\n",
       "      <th>poutcome</th>\n",
       "      <th>y</th>\n",
       "    </tr>\n",
       "  </thead>\n",
       "  <tbody>\n",
       "    <tr>\n",
       "      <th>0</th>\n",
       "      <td>30</td>\n",
       "      <td>unemployed</td>\n",
       "      <td>married</td>\n",
       "      <td>primary</td>\n",
       "      <td>1787</td>\n",
       "      <td>no</td>\n",
       "      <td>cellular</td>\n",
       "      <td>19</td>\n",
       "      <td>oct</td>\n",
       "      <td>79</td>\n",
       "      <td>1</td>\n",
       "      <td>-1</td>\n",
       "      <td>0</td>\n",
       "      <td>unknown</td>\n",
       "      <td>no</td>\n",
       "    </tr>\n",
       "    <tr>\n",
       "      <th>1</th>\n",
       "      <td>33</td>\n",
       "      <td>services</td>\n",
       "      <td>married</td>\n",
       "      <td>secondary</td>\n",
       "      <td>4789</td>\n",
       "      <td>yes</td>\n",
       "      <td>cellular</td>\n",
       "      <td>11</td>\n",
       "      <td>may</td>\n",
       "      <td>220</td>\n",
       "      <td>1</td>\n",
       "      <td>339</td>\n",
       "      <td>4</td>\n",
       "      <td>failure</td>\n",
       "      <td>no</td>\n",
       "    </tr>\n",
       "    <tr>\n",
       "      <th>2</th>\n",
       "      <td>35</td>\n",
       "      <td>management</td>\n",
       "      <td>single</td>\n",
       "      <td>tertiary</td>\n",
       "      <td>1350</td>\n",
       "      <td>yes</td>\n",
       "      <td>cellular</td>\n",
       "      <td>16</td>\n",
       "      <td>apr</td>\n",
       "      <td>185</td>\n",
       "      <td>1</td>\n",
       "      <td>330</td>\n",
       "      <td>1</td>\n",
       "      <td>failure</td>\n",
       "      <td>no</td>\n",
       "    </tr>\n",
       "    <tr>\n",
       "      <th>3</th>\n",
       "      <td>30</td>\n",
       "      <td>management</td>\n",
       "      <td>married</td>\n",
       "      <td>tertiary</td>\n",
       "      <td>1476</td>\n",
       "      <td>yes</td>\n",
       "      <td>unknown</td>\n",
       "      <td>3</td>\n",
       "      <td>jun</td>\n",
       "      <td>199</td>\n",
       "      <td>4</td>\n",
       "      <td>-1</td>\n",
       "      <td>0</td>\n",
       "      <td>unknown</td>\n",
       "      <td>no</td>\n",
       "    </tr>\n",
       "    <tr>\n",
       "      <th>4</th>\n",
       "      <td>59</td>\n",
       "      <td>blue-collar</td>\n",
       "      <td>married</td>\n",
       "      <td>secondary</td>\n",
       "      <td>0</td>\n",
       "      <td>yes</td>\n",
       "      <td>unknown</td>\n",
       "      <td>5</td>\n",
       "      <td>may</td>\n",
       "      <td>226</td>\n",
       "      <td>1</td>\n",
       "      <td>-1</td>\n",
       "      <td>0</td>\n",
       "      <td>unknown</td>\n",
       "      <td>no</td>\n",
       "    </tr>\n",
       "  </tbody>\n",
       "</table>\n",
       "</div>"
      ],
      "text/plain": [
       "   age          job  marital  education  balance housing   contact  day month  \\\n",
       "0   30   unemployed  married    primary     1787      no  cellular   19   oct   \n",
       "1   33     services  married  secondary     4789     yes  cellular   11   may   \n",
       "2   35   management   single   tertiary     1350     yes  cellular   16   apr   \n",
       "3   30   management  married   tertiary     1476     yes   unknown    3   jun   \n",
       "4   59  blue-collar  married  secondary        0     yes   unknown    5   may   \n",
       "\n",
       "   duration  campaign  pdays  previous poutcome   y  \n",
       "0        79         1     -1         0  unknown  no  \n",
       "1       220         1    339         4  failure  no  \n",
       "2       185         1    330         1  failure  no  \n",
       "3       199         4     -1         0  unknown  no  \n",
       "4       226         1     -1         0  unknown  no  "
      ]
     },
     "execution_count": 44,
     "metadata": {},
     "output_type": "execute_result"
    }
   ],
   "source": [
    "#df_small = df_raw[[\"age\", \"job\", \"marital\", \"education\", \"balance\", \"housing\", \"contact\", \"day\", \"month\", \"duration\", \"campaign\", \"pdays\", \"previous\", \"poutcome\", \"y\"]]\n",
    "del df_raw[\"default\"]\n",
    "del df_raw[\"loan\"]\n",
    "\n",
    "df_raw.head()"
   ]
  },
  {
   "cell_type": "code",
   "execution_count": 45,
   "id": "8e0663aa",
   "metadata": {},
   "outputs": [
    {
     "data": {
      "text/plain": [
       "age          0\n",
       "job          0\n",
       "marital      0\n",
       "education    0\n",
       "balance      0\n",
       "housing      0\n",
       "contact      0\n",
       "day          0\n",
       "month        0\n",
       "duration     0\n",
       "campaign     0\n",
       "pdays        0\n",
       "previous     0\n",
       "poutcome     0\n",
       "y            0\n",
       "dtype: int64"
      ]
     },
     "execution_count": 45,
     "metadata": {},
     "output_type": "execute_result"
    }
   ],
   "source": [
    "df_raw.isnull().sum()"
   ]
  },
  {
   "cell_type": "markdown",
   "id": "5b410ffd",
   "metadata": {},
   "source": [
    "No missing values for the selected features"
   ]
  },
  {
   "cell_type": "markdown",
   "id": "fee8893f",
   "metadata": {},
   "source": [
    "## Question 1"
   ]
  },
  {
   "cell_type": "code",
   "execution_count": 46,
   "id": "36cc5bbd",
   "metadata": {},
   "outputs": [
    {
     "data": {
      "text/plain": [
       "0    secondary\n",
       "Name: education, dtype: object"
      ]
     },
     "execution_count": 46,
     "metadata": {},
     "output_type": "execute_result"
    }
   ],
   "source": [
    "df_raw[\"education\"].mode()"
   ]
  },
  {
   "cell_type": "markdown",
   "id": "afe4cccf",
   "metadata": {},
   "source": [
    "#### Answer 1 : the mode of \"education\" is secondary"
   ]
  },
  {
   "cell_type": "markdown",
   "id": "70d47cdc",
   "metadata": {},
   "source": [
    "## Question 2"
   ]
  },
  {
   "cell_type": "code",
   "execution_count": 47,
   "id": "a3de1d38",
   "metadata": {},
   "outputs": [
    {
     "name": "stdout",
     "output_type": "stream",
     "text": [
      "age           int64\n",
      "job          object\n",
      "marital      object\n",
      "education    object\n",
      "balance       int64\n",
      "housing      object\n",
      "contact      object\n",
      "day           int64\n",
      "month        object\n",
      "duration      int64\n",
      "campaign      int64\n",
      "pdays         int64\n",
      "previous      int64\n",
      "poutcome     object\n",
      "y            object\n",
      "dtype: object\n",
      "               age   balance       day  duration  campaign     pdays  previous\n",
      "age       1.000000  0.083820 -0.017853 -0.002367 -0.005148 -0.008894 -0.003511\n",
      "balance   0.083820  1.000000 -0.008677 -0.015950 -0.009976  0.009437  0.026196\n",
      "day      -0.017853 -0.008677  1.000000 -0.024629  0.160706 -0.094352 -0.059114\n",
      "duration -0.002367 -0.015950 -0.024629  1.000000 -0.068382  0.010380  0.018080\n",
      "campaign -0.005148 -0.009976  0.160706 -0.068382  1.000000 -0.093137 -0.067833\n",
      "pdays    -0.008894  0.009437 -0.094352  0.010380 -0.093137  1.000000  0.577562\n",
      "previous -0.003511  0.026196 -0.059114  0.018080 -0.067833  0.577562  1.000000\n"
     ]
    },
    {
     "data": {
      "image/png": "[encoded data removed]",
      "text/plain": [
       "<Figure size 1000x800 with 2 Axes>"
      ]
     },
     "metadata": {},
     "output_type": "display_data"
    }
   ],
   "source": [
    "# checking the types of columns\n",
    "print(df_raw.dtypes)\n",
    "\n",
    "# selecting only numerical columns \n",
    "numerical = np.array(df_raw.columns[(df_raw.dtypes != \"object\").values])\n",
    "\n",
    "# calculating the correltion matrix of the numerical features of the df\n",
    "correlation_matrix = df_raw[numerical].corr()\n",
    "\n",
    "print(correlation_matrix)\n",
    "\n",
    "# Set the size of the plot\n",
    "plt.figure(figsize=(10, 8))\n",
    "\n",
    "# Plot the heatmap\n",
    "sns.heatmap(correlation_matrix, annot=True, cmap='coolwarm', linewidths=0.5)\n",
    "\n",
    "# Show the plot\n",
    "plt.show()"
   ]
  },
  {
   "cell_type": "markdown",
   "id": "58d29a4a",
   "metadata": {},
   "source": [
    "#### Answer 2 : the two features with the biggest correlation are pdays and previous"
   ]
  },
  {
   "cell_type": "markdown",
   "id": "0a0804ae",
   "metadata": {},
   "source": [
    "## Question 3"
   ]
  },
  {
   "cell_type": "code",
   "execution_count": 48,
   "id": "7304a54b",
   "metadata": {},
   "outputs": [],
   "source": [
    "# replacing yes/no with 1/0 for \"y\" variable\n",
    "df = df_raw.copy()\n",
    "# print(df[\"y\"].head(20))\n",
    "\n",
    "df[\"y\"] = (df[\"y\"] == \"yes\").astype(\"int\")\n",
    "df[\"y\"].head(20)\n",
    "\n",
    "# splitting the data\n",
    "from sklearn.model_selection import train_test_split\n",
    "\n",
    "df_train_full, df_test = train_test_split(df, test_size = 0.2, random_state = 42)\n",
    "df_train, df_val = train_test_split(df_train_full, test_size = (0.2/0.8) , random_state = 42)\n",
    "\n",
    "y_full_train, y_train, y_val, y_test = df_train_full[\"y\"].values , df_train[\"y\"].values, df_val[\"y\"].values, df_test[\"y\"].values\n",
    "\n",
    "del df_train_full[\"y\"]\n",
    "del df_train[\"y\"]\n",
    "del df_val[\"y\"]\n",
    "del df_test[\"y\"]\n"
   ]
  },
  {
   "cell_type": "code",
   "execution_count": 49,
   "id": "2c12ca6d",
   "metadata": {},
   "outputs": [],
   "source": [
    "from sklearn.metrics import mutual_info_score"
   ]
  },
  {
   "cell_type": "code",
   "execution_count": 55,
   "id": "1cb60c50",
   "metadata": {},
   "outputs": [
    {
     "name": "stdout",
     "output_type": "stream",
     "text": [
      "['job' 'marital' 'education' 'housing' 'contact' 'month' 'poutcome']\n",
      "job  :  0.01\n",
      "marital  :  0.0\n",
      "education  :  0.0\n",
      "housing  :  0.01\n",
      "contact  :  0.01\n",
      "month  :  0.02\n",
      "poutcome  :  0.03\n"
     ]
    }
   ],
   "source": [
    "categorical = np.array(df_train.columns[(df_train.dtypes == \"object\").values])\n",
    "print(categorical)\n",
    "\n",
    "dict_mi = {feature : round(mutual_info_score(df_train[feature], y_train),2) for feature in categorical}\n",
    "for feat, value in dict_mi.items():\n",
    "    print(feat,' : ', value)"
   ]
  },
  {
   "cell_type": "markdown",
   "id": "d33d0d55",
   "metadata": {},
   "source": [
    "#### Answer 3 : poutcome has the biggest mutual information score"
   ]
  },
  {
   "cell_type": "markdown",
   "id": "02fab3ee",
   "metadata": {},
   "source": [
    "## Question 4 :"
   ]
  },
  {
   "cell_type": "code",
   "execution_count": 56,
   "id": "be33d58d",
   "metadata": {},
   "outputs": [
    {
     "data": {
      "text/plain": [
       "{'age': 41,\n",
       " 'job': 'management',\n",
       " 'marital': 'married',\n",
       " 'education': 'tertiary',\n",
       " 'balance': 72,\n",
       " 'housing': 'yes',\n",
       " 'contact': 'unknown',\n",
       " 'day': 7,\n",
       " 'month': 'may',\n",
       " 'duration': 764,\n",
       " 'campaign': 3,\n",
       " 'pdays': -1,\n",
       " 'previous': 0,\n",
       " 'poutcome': 'unknown'}"
      ]
     },
     "execution_count": 56,
     "metadata": {},
     "output_type": "execute_result"
    }
   ],
   "source": [
    "# One-hot encoding\n",
    "from sklearn.feature_extraction import DictVectorizer\n",
    "\n",
    "train_dict = df_train.to_dict(orient = \"records\")\n",
    "train_dict[0]"
   ]
  },
  {
   "cell_type": "code",
   "execution_count": 65,
   "id": "f165f8f0",
   "metadata": {},
   "outputs": [
    {
     "data": {
      "text/plain": [
       "(2712, 47)"
      ]
     },
     "execution_count": 65,
     "metadata": {},
     "output_type": "execute_result"
    }
   ],
   "source": [
    "dv = DictVectorizer(sparse=False)\n",
    "X_train = dv.fit_transform(train_dict)\n",
    "X_train.shape"
   ]
  },
  {
   "cell_type": "code",
   "execution_count": null,
   "id": "ff6ddc24",
   "metadata": {},
   "outputs": [],
   "source": [
    "dv.get_feature_names_out()"
   ]
  },
  {
   "cell_type": "code",
   "execution_count": 69,
   "id": "e47e92d9",
   "metadata": {},
   "outputs": [],
   "source": [
    "# Applying the ogistic regression model\n",
    "from sklearn.linear_model import LogisticRegression\n",
    "\n",
    "model = LogisticRegression(solver='liblinear', C=1.0, max_iter=1000, random_state=42)\n",
    "\n",
    "#LogisticRegression?"
   ]
  },
  {
   "cell_type": "code",
   "execution_count": 92,
   "id": "6fb08de8",
   "metadata": {},
   "outputs": [
    {
     "name": "stdout",
     "output_type": "stream",
     "text": [
      "[[0.67103109 0.32896891]\n",
      " [0.99524829 0.00475171]\n",
      " [0.2404187  0.7595813 ]\n",
      " [0.57530368 0.42469632]\n",
      " [0.98813215 0.01186785]]\n",
      "0.89\n"
     ]
    }
   ],
   "source": [
    "model.fit(X_train, y_train)\n",
    "\n",
    "dict_val = df_val.to_dict(orient = \"records\")\n",
    "\n",
    "X_val = dv.transform(dict_val)\n",
    "\n",
    "y_pred = model.predict_proba(X_val)[:,1]\n",
    "\n",
    "print(model.predict_proba(X_val[:5]))\n",
    "\n",
    "pred = (y_pred > 0.5)\n",
    "\n",
    "acc_original = round((pred == y_val).mean(),2)\n",
    "\n",
    "print(acc_original)"
   ]
  },
  {
   "cell_type": "markdown",
   "id": "33e2561c",
   "metadata": {},
   "source": [
    "#### Answer 4 : The accuracy of the model on validation dataset is apprx 0.9"
   ]
  },
  {
   "cell_type": "code",
   "execution_count": 89,
   "id": "99ba761d",
   "metadata": {},
   "outputs": [
    {
     "data": {
      "text/plain": [
       "array([[1., 0.],\n",
       "       [1., 0.],\n",
       "       [1., 0.],\n",
       "       [1., 0.],\n",
       "       [1., 0.]])"
      ]
     },
     "execution_count": 89,
     "metadata": {},
     "output_type": "execute_result"
    }
   ],
   "source": [
    "# Extra, using desisiontreeclassifier\n",
    "from sklearn.tree import DecisionTreeClassifier\n",
    "\n",
    "classifier = DecisionTreeClassifier(random_state=42).fit(X_train, y_train)\n",
    "classifier.predict_proba(X_val[:5])"
   ]
  },
  {
   "cell_type": "code",
   "execution_count": 90,
   "id": "bedb95d7",
   "metadata": {},
   "outputs": [
    {
     "data": {
      "text/plain": [
       "array([0, 0, 0, 0, 0])"
      ]
     },
     "execution_count": 90,
     "metadata": {},
     "output_type": "execute_result"
    }
   ],
   "source": [
    "# Extra\n",
    "classifier.predict(X_val[:5])"
   ]
  },
  {
   "cell_type": "markdown",
   "id": "ffe78a3c",
   "metadata": {},
   "source": [
    "## Question 5 :"
   ]
  },
  {
   "cell_type": "code",
   "execution_count": 81,
   "id": "bb845d30",
   "metadata": {},
   "outputs": [
    {
     "name": "stdout",
     "output_type": "stream",
     "text": [
      "{'age': 0.887, 'job': 0.893, 'marital': 0.89, 'education': 0.889, 'balance': 0.886, 'housing': 0.887, 'contact': 0.886, 'day': 0.887, 'month': 0.886, 'duration': 0.875, 'campaign': 0.888, 'pdays': 0.888, 'previous': 0.888, 'poutcome': 0.879}\n",
      "{'age': 0.0030000000000000027, 'job': -0.0030000000000000027, 'marital': 0.0, 'education': 0.0010000000000000009, 'balance': 0.0040000000000000036, 'housing': 0.0030000000000000027, 'contact': 0.0040000000000000036, 'day': 0.0030000000000000027, 'month': 0.0040000000000000036, 'duration': 0.015000000000000013, 'campaign': 0.0020000000000000018, 'pdays': 0.0020000000000000018, 'previous': 0.0020000000000000018, 'poutcome': 0.01100000000000001}\n",
      "0.0\n",
      "marital\n"
     ]
    }
   ],
   "source": [
    "# first, the list of all features\n",
    "base = [\"age\", \"job\", \"marital\", \"education\", \"balance\", \"housing\", \"contact\", \n",
    "        \"day\", \"month\", \"duration\", \"campaign\", \"pdays\", \"previous\", \"poutcome\"]\n",
    "\n",
    "# for each feature excluded, we need to get the X_train with the rest features\n",
    "dict_accu = {}\n",
    "dict_diff_acc = {}\n",
    "min_diff_acc = None\n",
    "min_i = None\n",
    "\n",
    "for ind, f in enumerate(base) :\n",
    "    base_lessOne = [feat for feat in base if feat != f]\n",
    "    #print(f)\n",
    "    #print(base_lessOne)\n",
    "    train_dict = df_train[base_lessOne].to_dict(orient = \"records\")\n",
    "    \n",
    "    dv = DictVectorizer(sparse=False)\n",
    "    X_train = dv.fit_transform(train_dict)\n",
    "\n",
    "    model = LogisticRegression(solver='liblinear', C=1.0, max_iter=1000, random_state=42)\n",
    "\n",
    "    model.fit(X_train, y_train)\n",
    "\n",
    "    dict_val = df_val[base_lessOne].to_dict(orient = \"records\")\n",
    "\n",
    "    X_val = dv.transform(dict_val)\n",
    "\n",
    "    y_pred = model.predict_proba(X_val)[:,1]\n",
    "\n",
    "    pred = (y_pred > 0.5)\n",
    "\n",
    "    acc_one = round((pred == y_val).mean(),3)\n",
    "\n",
    "    dict_accu[f] = acc_one\n",
    "    dict_diff_acc[f] = acc_original - acc_one\n",
    "\n",
    "    if min_diff_acc == None :\n",
    "        min_diff_acc = abs(acc_original - acc_one)\n",
    "        min_i = ind\n",
    "    \n",
    "    if min_diff_acc > abs(acc_original - acc_one):\n",
    "        min_diff_acc = abs(acc_original - acc_one)\n",
    "        min_i = ind\n",
    "\n",
    "print(dict_accu)\n",
    "print(dict_diff_acc)\n",
    "print(min_diff_acc)\n",
    "print(base[min_i])\n"
   ]
  },
  {
   "cell_type": "markdown",
   "id": "1c182a1b",
   "metadata": {},
   "source": [
    "#### Answer 5 : the feature with the smallest difference (equals to 0) from the list is marital"
   ]
  },
  {
   "cell_type": "markdown",
   "id": "7d3ce441",
   "metadata": {},
   "source": [
    "## Question 6 :"
   ]
  },
  {
   "cell_type": "code",
   "execution_count": 85,
   "id": "f75abfe5",
   "metadata": {},
   "outputs": [
    {
     "name": "stdout",
     "output_type": "stream",
     "text": [
      "accuracy 0.872 is obtained with the C value of 1e-06\n",
      "accuracy 0.876 is obtained with the C value of 0.01\n",
      "accuracy 0.885 is obtained with the C value of 0.1\n",
      "accuracy 0.888 is obtained with the C value of 1\n",
      "accuracy 0.887 is obtained with the C value of 10\n",
      "The maximum accuracy 0.888 is obtained with the C value of 1\n"
     ]
    }
   ],
   "source": [
    "C_values = [0.000001, 0.01, 0.1, 1, 10]\n",
    "max_acc = 0\n",
    "c_best = None\n",
    "for c in C_values:\n",
    "    train_dict = df_train.to_dict(orient = \"records\")\n",
    "    \n",
    "    dv = DictVectorizer(sparse=False)\n",
    "    X_train = dv.fit_transform(train_dict)\n",
    "\n",
    "    model = LogisticRegression(solver='liblinear', C=float(c), max_iter=1000, random_state=42)\n",
    "\n",
    "    model.fit(X_train, y_train)\n",
    "\n",
    "    dict_val = df_val.to_dict(orient = \"records\")\n",
    "\n",
    "    X_val = dv.transform(dict_val)\n",
    "\n",
    "    y_pred = model.predict_proba(X_val)[:,1]\n",
    "\n",
    "    pred = (y_pred > 0.5)\n",
    "\n",
    "    acc_one = round((pred == y_val).mean(),3)\n",
    "\n",
    "    if acc_one > max_acc :\n",
    "        max_acc = acc_one\n",
    "        c_best = c\n",
    "    print(f\"accuracy {acc_one} is obtained with the C value of {c}\")\n",
    "\n",
    "print(f\"The maximum accuracy {max_acc} is obtained with the C value of {c_best}\")"
   ]
  },
  {
   "cell_type": "markdown",
   "id": "a5b766f7",
   "metadata": {},
   "source": [
    "NB : I had to approximate 0 to something >0 because 0 means infinite regularization."
   ]
  },
  {
   "cell_type": "markdown",
   "id": "90c688a9",
   "metadata": {},
   "source": [
    "#### Answer 6 : the C value that gives the best accuracy is 1, for an accuracy score of 0.888"
   ]
  }
 ],
 "metadata": {
  "kernelspec": {
   "display_name": "Python 3",
   "language": "python",
   "name": "python3"
  },
  "language_info": {
   "codemirror_mode": {
    "name": "ipython",
    "version": 3
   },
   "file_extension": ".py",
   "mimetype": "text/x-python",
   "name": "python",
   "nbconvert_exporter": "python",
   "pygments_lexer": "ipython3",
   "version": "3.12.3"
  }
 },
 "nbformat": 4,
 "nbformat_minor": 5
}
