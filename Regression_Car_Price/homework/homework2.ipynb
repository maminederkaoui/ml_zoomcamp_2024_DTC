{
 "cells": [
  {
   "cell_type": "markdown",
   "id": "0495301e-012d-4508-8529-bcc814dd4550",
   "metadata": {},
   "source": [
    "Homework for module 2"
   ]
  },
  {
   "cell_type": "code",
   "execution_count": 3,
   "id": "76f0dce5-5c5c-4624-a31e-bb24df68b02d",
   "metadata": {},
   "outputs": [],
   "source": [
    "import pandas as pd\n",
    "import numpy as np\n",
    "\n",
    "import seaborn as sns\n",
    "from matplotlib import pyplot as plt\n",
    "%matplotlib inline\n",
    "\n"
   ]
  },
  {
   "cell_type": "code",
   "execution_count": 4,
   "id": "293006d3-2471-4b5c-a617-a511e6a1894b",
   "metadata": {},
   "outputs": [
    {
     "data": {
      "text/html": [
       "<div>\n",
       "<style scoped>\n",
       "    .dataframe tbody tr th:only-of-type {\n",
       "        vertical-align: middle;\n",
       "    }\n",
       "\n",
       "    .dataframe tbody tr th {\n",
       "        vertical-align: top;\n",
       "    }\n",
       "\n",
       "    .dataframe thead th {\n",
       "        text-align: right;\n",
       "    }\n",
       "</style>\n",
       "<table border=\"1\" class=\"dataframe\">\n",
       "  <thead>\n",
       "    <tr style=\"text-align: right;\">\n",
       "      <th></th>\n",
       "      <th>Laptop</th>\n",
       "      <th>Status</th>\n",
       "      <th>Brand</th>\n",
       "      <th>Model</th>\n",
       "      <th>CPU</th>\n",
       "      <th>RAM</th>\n",
       "      <th>Storage</th>\n",
       "      <th>Storage type</th>\n",
       "      <th>GPU</th>\n",
       "      <th>Screen</th>\n",
       "      <th>Touch</th>\n",
       "      <th>Final Price</th>\n",
       "    </tr>\n",
       "  </thead>\n",
       "  <tbody>\n",
       "    <tr>\n",
       "      <th>0</th>\n",
       "      <td>ASUS ExpertBook B1 B1502CBA-EJ0436X Intel Core...</td>\n",
       "      <td>New</td>\n",
       "      <td>Asus</td>\n",
       "      <td>ExpertBook</td>\n",
       "      <td>Intel Core i5</td>\n",
       "      <td>8</td>\n",
       "      <td>512</td>\n",
       "      <td>SSD</td>\n",
       "      <td>NaN</td>\n",
       "      <td>15.6</td>\n",
       "      <td>No</td>\n",
       "      <td>1009.00</td>\n",
       "    </tr>\n",
       "    <tr>\n",
       "      <th>1</th>\n",
       "      <td>Alurin Go Start Intel Celeron N4020/8GB/256GB ...</td>\n",
       "      <td>New</td>\n",
       "      <td>Alurin</td>\n",
       "      <td>Go</td>\n",
       "      <td>Intel Celeron</td>\n",
       "      <td>8</td>\n",
       "      <td>256</td>\n",
       "      <td>SSD</td>\n",
       "      <td>NaN</td>\n",
       "      <td>15.6</td>\n",
       "      <td>No</td>\n",
       "      <td>299.00</td>\n",
       "    </tr>\n",
       "    <tr>\n",
       "      <th>2</th>\n",
       "      <td>ASUS ExpertBook B1 B1502CBA-EJ0424X Intel Core...</td>\n",
       "      <td>New</td>\n",
       "      <td>Asus</td>\n",
       "      <td>ExpertBook</td>\n",
       "      <td>Intel Core i3</td>\n",
       "      <td>8</td>\n",
       "      <td>256</td>\n",
       "      <td>SSD</td>\n",
       "      <td>NaN</td>\n",
       "      <td>15.6</td>\n",
       "      <td>No</td>\n",
       "      <td>789.00</td>\n",
       "    </tr>\n",
       "    <tr>\n",
       "      <th>3</th>\n",
       "      <td>MSI Katana GF66 12UC-082XES Intel Core i7-1270...</td>\n",
       "      <td>New</td>\n",
       "      <td>MSI</td>\n",
       "      <td>Katana</td>\n",
       "      <td>Intel Core i7</td>\n",
       "      <td>16</td>\n",
       "      <td>1000</td>\n",
       "      <td>SSD</td>\n",
       "      <td>RTX 3050</td>\n",
       "      <td>15.6</td>\n",
       "      <td>No</td>\n",
       "      <td>1199.00</td>\n",
       "    </tr>\n",
       "    <tr>\n",
       "      <th>4</th>\n",
       "      <td>HP 15S-FQ5085NS Intel Core i5-1235U/16GB/512GB...</td>\n",
       "      <td>New</td>\n",
       "      <td>HP</td>\n",
       "      <td>15S</td>\n",
       "      <td>Intel Core i5</td>\n",
       "      <td>16</td>\n",
       "      <td>512</td>\n",
       "      <td>SSD</td>\n",
       "      <td>NaN</td>\n",
       "      <td>15.6</td>\n",
       "      <td>No</td>\n",
       "      <td>669.01</td>\n",
       "    </tr>\n",
       "  </tbody>\n",
       "</table>\n",
       "</div>"
      ],
      "text/plain": [
       "                                              Laptop Status   Brand  \\\n",
       "0  ASUS ExpertBook B1 B1502CBA-EJ0436X Intel Core...    New    Asus   \n",
       "1  Alurin Go Start Intel Celeron N4020/8GB/256GB ...    New  Alurin   \n",
       "2  ASUS ExpertBook B1 B1502CBA-EJ0424X Intel Core...    New    Asus   \n",
       "3  MSI Katana GF66 12UC-082XES Intel Core i7-1270...    New     MSI   \n",
       "4  HP 15S-FQ5085NS Intel Core i5-1235U/16GB/512GB...    New      HP   \n",
       "\n",
       "        Model            CPU  RAM  Storage Storage type       GPU  Screen  \\\n",
       "0  ExpertBook  Intel Core i5    8      512          SSD       NaN    15.6   \n",
       "1          Go  Intel Celeron    8      256          SSD       NaN    15.6   \n",
       "2  ExpertBook  Intel Core i3    8      256          SSD       NaN    15.6   \n",
       "3      Katana  Intel Core i7   16     1000          SSD  RTX 3050    15.6   \n",
       "4         15S  Intel Core i5   16      512          SSD       NaN    15.6   \n",
       "\n",
       "  Touch  Final Price  \n",
       "0    No      1009.00  \n",
       "1    No       299.00  \n",
       "2    No       789.00  \n",
       "3    No      1199.00  \n",
       "4    No       669.01  "
      ]
     },
     "execution_count": 4,
     "metadata": {},
     "output_type": "execute_result"
    }
   ],
   "source": [
    "df = pd.read_csv(\"laptops.csv\")\n",
    "df.head()"
   ]
  },
  {
   "cell_type": "code",
   "execution_count": 5,
   "id": "ac4dbb04-287c-402b-ab78-dc3bc46e2b8d",
   "metadata": {},
   "outputs": [
    {
     "data": {
      "text/html": [
       "<div>\n",
       "<style scoped>\n",
       "    .dataframe tbody tr th:only-of-type {\n",
       "        vertical-align: middle;\n",
       "    }\n",
       "\n",
       "    .dataframe tbody tr th {\n",
       "        vertical-align: top;\n",
       "    }\n",
       "\n",
       "    .dataframe thead th {\n",
       "        text-align: right;\n",
       "    }\n",
       "</style>\n",
       "<table border=\"1\" class=\"dataframe\">\n",
       "  <thead>\n",
       "    <tr style=\"text-align: right;\">\n",
       "      <th></th>\n",
       "      <th>0</th>\n",
       "      <th>1</th>\n",
       "      <th>2</th>\n",
       "      <th>3</th>\n",
       "      <th>4</th>\n",
       "    </tr>\n",
       "  </thead>\n",
       "  <tbody>\n",
       "    <tr>\n",
       "      <th>Laptop</th>\n",
       "      <td>ASUS ExpertBook B1 B1502CBA-EJ0436X Intel Core...</td>\n",
       "      <td>Alurin Go Start Intel Celeron N4020/8GB/256GB ...</td>\n",
       "      <td>ASUS ExpertBook B1 B1502CBA-EJ0424X Intel Core...</td>\n",
       "      <td>MSI Katana GF66 12UC-082XES Intel Core i7-1270...</td>\n",
       "      <td>HP 15S-FQ5085NS Intel Core i5-1235U/16GB/512GB...</td>\n",
       "    </tr>\n",
       "    <tr>\n",
       "      <th>Status</th>\n",
       "      <td>New</td>\n",
       "      <td>New</td>\n",
       "      <td>New</td>\n",
       "      <td>New</td>\n",
       "      <td>New</td>\n",
       "    </tr>\n",
       "    <tr>\n",
       "      <th>Brand</th>\n",
       "      <td>Asus</td>\n",
       "      <td>Alurin</td>\n",
       "      <td>Asus</td>\n",
       "      <td>MSI</td>\n",
       "      <td>HP</td>\n",
       "    </tr>\n",
       "    <tr>\n",
       "      <th>Model</th>\n",
       "      <td>ExpertBook</td>\n",
       "      <td>Go</td>\n",
       "      <td>ExpertBook</td>\n",
       "      <td>Katana</td>\n",
       "      <td>15S</td>\n",
       "    </tr>\n",
       "    <tr>\n",
       "      <th>CPU</th>\n",
       "      <td>Intel Core i5</td>\n",
       "      <td>Intel Celeron</td>\n",
       "      <td>Intel Core i3</td>\n",
       "      <td>Intel Core i7</td>\n",
       "      <td>Intel Core i5</td>\n",
       "    </tr>\n",
       "    <tr>\n",
       "      <th>RAM</th>\n",
       "      <td>8</td>\n",
       "      <td>8</td>\n",
       "      <td>8</td>\n",
       "      <td>16</td>\n",
       "      <td>16</td>\n",
       "    </tr>\n",
       "    <tr>\n",
       "      <th>Storage</th>\n",
       "      <td>512</td>\n",
       "      <td>256</td>\n",
       "      <td>256</td>\n",
       "      <td>1000</td>\n",
       "      <td>512</td>\n",
       "    </tr>\n",
       "    <tr>\n",
       "      <th>Storage type</th>\n",
       "      <td>SSD</td>\n",
       "      <td>SSD</td>\n",
       "      <td>SSD</td>\n",
       "      <td>SSD</td>\n",
       "      <td>SSD</td>\n",
       "    </tr>\n",
       "    <tr>\n",
       "      <th>GPU</th>\n",
       "      <td>NaN</td>\n",
       "      <td>NaN</td>\n",
       "      <td>NaN</td>\n",
       "      <td>RTX 3050</td>\n",
       "      <td>NaN</td>\n",
       "    </tr>\n",
       "    <tr>\n",
       "      <th>Screen</th>\n",
       "      <td>15.6</td>\n",
       "      <td>15.6</td>\n",
       "      <td>15.6</td>\n",
       "      <td>15.6</td>\n",
       "      <td>15.6</td>\n",
       "    </tr>\n",
       "    <tr>\n",
       "      <th>Touch</th>\n",
       "      <td>No</td>\n",
       "      <td>No</td>\n",
       "      <td>No</td>\n",
       "      <td>No</td>\n",
       "      <td>No</td>\n",
       "    </tr>\n",
       "    <tr>\n",
       "      <th>Final Price</th>\n",
       "      <td>1009.0</td>\n",
       "      <td>299.0</td>\n",
       "      <td>789.0</td>\n",
       "      <td>1199.0</td>\n",
       "      <td>669.01</td>\n",
       "    </tr>\n",
       "  </tbody>\n",
       "</table>\n",
       "</div>"
      ],
      "text/plain": [
       "                                                              0  \\\n",
       "Laptop        ASUS ExpertBook B1 B1502CBA-EJ0436X Intel Core...   \n",
       "Status                                                      New   \n",
       "Brand                                                      Asus   \n",
       "Model                                                ExpertBook   \n",
       "CPU                                               Intel Core i5   \n",
       "RAM                                                           8   \n",
       "Storage                                                     512   \n",
       "Storage type                                                SSD   \n",
       "GPU                                                         NaN   \n",
       "Screen                                                     15.6   \n",
       "Touch                                                        No   \n",
       "Final Price                                              1009.0   \n",
       "\n",
       "                                                              1  \\\n",
       "Laptop        Alurin Go Start Intel Celeron N4020/8GB/256GB ...   \n",
       "Status                                                      New   \n",
       "Brand                                                    Alurin   \n",
       "Model                                                        Go   \n",
       "CPU                                               Intel Celeron   \n",
       "RAM                                                           8   \n",
       "Storage                                                     256   \n",
       "Storage type                                                SSD   \n",
       "GPU                                                         NaN   \n",
       "Screen                                                     15.6   \n",
       "Touch                                                        No   \n",
       "Final Price                                               299.0   \n",
       "\n",
       "                                                              2  \\\n",
       "Laptop        ASUS ExpertBook B1 B1502CBA-EJ0424X Intel Core...   \n",
       "Status                                                      New   \n",
       "Brand                                                      Asus   \n",
       "Model                                                ExpertBook   \n",
       "CPU                                               Intel Core i3   \n",
       "RAM                                                           8   \n",
       "Storage                                                     256   \n",
       "Storage type                                                SSD   \n",
       "GPU                                                         NaN   \n",
       "Screen                                                     15.6   \n",
       "Touch                                                        No   \n",
       "Final Price                                               789.0   \n",
       "\n",
       "                                                              3  \\\n",
       "Laptop        MSI Katana GF66 12UC-082XES Intel Core i7-1270...   \n",
       "Status                                                      New   \n",
       "Brand                                                       MSI   \n",
       "Model                                                    Katana   \n",
       "CPU                                               Intel Core i7   \n",
       "RAM                                                          16   \n",
       "Storage                                                    1000   \n",
       "Storage type                                                SSD   \n",
       "GPU                                                    RTX 3050   \n",
       "Screen                                                     15.6   \n",
       "Touch                                                        No   \n",
       "Final Price                                              1199.0   \n",
       "\n",
       "                                                              4  \n",
       "Laptop        HP 15S-FQ5085NS Intel Core i5-1235U/16GB/512GB...  \n",
       "Status                                                      New  \n",
       "Brand                                                        HP  \n",
       "Model                                                       15S  \n",
       "CPU                                               Intel Core i5  \n",
       "RAM                                                          16  \n",
       "Storage                                                     512  \n",
       "Storage type                                                SSD  \n",
       "GPU                                                         NaN  \n",
       "Screen                                                     15.6  \n",
       "Touch                                                        No  \n",
       "Final Price                                              669.01  "
      ]
     },
     "execution_count": 5,
     "metadata": {},
     "output_type": "execute_result"
    }
   ],
   "source": [
    "df.head(5).T"
   ]
  },
  {
   "cell_type": "markdown",
   "id": "e121fb99-b577-4499-86b7-1dd983d6c469",
   "metadata": {},
   "source": [
    "Preparing the dataset"
   ]
  },
  {
   "cell_type": "code",
   "execution_count": 6,
   "id": "7e8d237b-0466-4642-8951-1834361a48e8",
   "metadata": {},
   "outputs": [],
   "source": [
    "df.columns = df.columns.str.lower().str.replace(' ', '_')"
   ]
  },
  {
   "cell_type": "code",
   "execution_count": 7,
   "id": "f37278b0-e70b-4276-95fe-cd210fbe2e30",
   "metadata": {},
   "outputs": [
    {
     "data": {
      "text/html": [
       "<div>\n",
       "<style scoped>\n",
       "    .dataframe tbody tr th:only-of-type {\n",
       "        vertical-align: middle;\n",
       "    }\n",
       "\n",
       "    .dataframe tbody tr th {\n",
       "        vertical-align: top;\n",
       "    }\n",
       "\n",
       "    .dataframe thead th {\n",
       "        text-align: right;\n",
       "    }\n",
       "</style>\n",
       "<table border=\"1\" class=\"dataframe\">\n",
       "  <thead>\n",
       "    <tr style=\"text-align: right;\">\n",
       "      <th></th>\n",
       "      <th>laptop</th>\n",
       "      <th>status</th>\n",
       "      <th>brand</th>\n",
       "      <th>model</th>\n",
       "      <th>cpu</th>\n",
       "      <th>ram</th>\n",
       "      <th>storage</th>\n",
       "      <th>storage_type</th>\n",
       "      <th>gpu</th>\n",
       "      <th>screen</th>\n",
       "      <th>touch</th>\n",
       "      <th>final_price</th>\n",
       "    </tr>\n",
       "  </thead>\n",
       "  <tbody>\n",
       "    <tr>\n",
       "      <th>0</th>\n",
       "      <td>ASUS ExpertBook B1 B1502CBA-EJ0436X Intel Core...</td>\n",
       "      <td>New</td>\n",
       "      <td>Asus</td>\n",
       "      <td>ExpertBook</td>\n",
       "      <td>Intel Core i5</td>\n",
       "      <td>8</td>\n",
       "      <td>512</td>\n",
       "      <td>SSD</td>\n",
       "      <td>NaN</td>\n",
       "      <td>15.6</td>\n",
       "      <td>No</td>\n",
       "      <td>1009.00</td>\n",
       "    </tr>\n",
       "    <tr>\n",
       "      <th>1</th>\n",
       "      <td>Alurin Go Start Intel Celeron N4020/8GB/256GB ...</td>\n",
       "      <td>New</td>\n",
       "      <td>Alurin</td>\n",
       "      <td>Go</td>\n",
       "      <td>Intel Celeron</td>\n",
       "      <td>8</td>\n",
       "      <td>256</td>\n",
       "      <td>SSD</td>\n",
       "      <td>NaN</td>\n",
       "      <td>15.6</td>\n",
       "      <td>No</td>\n",
       "      <td>299.00</td>\n",
       "    </tr>\n",
       "    <tr>\n",
       "      <th>2</th>\n",
       "      <td>ASUS ExpertBook B1 B1502CBA-EJ0424X Intel Core...</td>\n",
       "      <td>New</td>\n",
       "      <td>Asus</td>\n",
       "      <td>ExpertBook</td>\n",
       "      <td>Intel Core i3</td>\n",
       "      <td>8</td>\n",
       "      <td>256</td>\n",
       "      <td>SSD</td>\n",
       "      <td>NaN</td>\n",
       "      <td>15.6</td>\n",
       "      <td>No</td>\n",
       "      <td>789.00</td>\n",
       "    </tr>\n",
       "    <tr>\n",
       "      <th>3</th>\n",
       "      <td>MSI Katana GF66 12UC-082XES Intel Core i7-1270...</td>\n",
       "      <td>New</td>\n",
       "      <td>MSI</td>\n",
       "      <td>Katana</td>\n",
       "      <td>Intel Core i7</td>\n",
       "      <td>16</td>\n",
       "      <td>1000</td>\n",
       "      <td>SSD</td>\n",
       "      <td>RTX 3050</td>\n",
       "      <td>15.6</td>\n",
       "      <td>No</td>\n",
       "      <td>1199.00</td>\n",
       "    </tr>\n",
       "    <tr>\n",
       "      <th>4</th>\n",
       "      <td>HP 15S-FQ5085NS Intel Core i5-1235U/16GB/512GB...</td>\n",
       "      <td>New</td>\n",
       "      <td>HP</td>\n",
       "      <td>15S</td>\n",
       "      <td>Intel Core i5</td>\n",
       "      <td>16</td>\n",
       "      <td>512</td>\n",
       "      <td>SSD</td>\n",
       "      <td>NaN</td>\n",
       "      <td>15.6</td>\n",
       "      <td>No</td>\n",
       "      <td>669.01</td>\n",
       "    </tr>\n",
       "  </tbody>\n",
       "</table>\n",
       "</div>"
      ],
      "text/plain": [
       "                                              laptop status   brand  \\\n",
       "0  ASUS ExpertBook B1 B1502CBA-EJ0436X Intel Core...    New    Asus   \n",
       "1  Alurin Go Start Intel Celeron N4020/8GB/256GB ...    New  Alurin   \n",
       "2  ASUS ExpertBook B1 B1502CBA-EJ0424X Intel Core...    New    Asus   \n",
       "3  MSI Katana GF66 12UC-082XES Intel Core i7-1270...    New     MSI   \n",
       "4  HP 15S-FQ5085NS Intel Core i5-1235U/16GB/512GB...    New      HP   \n",
       "\n",
       "        model            cpu  ram  storage storage_type       gpu  screen  \\\n",
       "0  ExpertBook  Intel Core i5    8      512          SSD       NaN    15.6   \n",
       "1          Go  Intel Celeron    8      256          SSD       NaN    15.6   \n",
       "2  ExpertBook  Intel Core i3    8      256          SSD       NaN    15.6   \n",
       "3      Katana  Intel Core i7   16     1000          SSD  RTX 3050    15.6   \n",
       "4         15S  Intel Core i5   16      512          SSD       NaN    15.6   \n",
       "\n",
       "  touch  final_price  \n",
       "0    No      1009.00  \n",
       "1    No       299.00  \n",
       "2    No       789.00  \n",
       "3    No      1199.00  \n",
       "4    No       669.01  "
      ]
     },
     "execution_count": 7,
     "metadata": {},
     "output_type": "execute_result"
    }
   ],
   "source": [
    "df.head()"
   ]
  },
  {
   "cell_type": "markdown",
   "id": "e89abb73-52e9-4c5b-bd78-abc733c16857",
   "metadata": {},
   "source": [
    "EDA"
   ]
  },
  {
   "cell_type": "code",
   "execution_count": 8,
   "id": "404b2349-0c4d-4ae9-8b86-396de402b2ea",
   "metadata": {},
   "outputs": [
    {
     "name": "stderr",
     "output_type": "stream",
     "text": [
      "C:\\Users\\mderkaoui\\AppData\\Local\\anaconda3\\Lib\\site-packages\\seaborn\\_oldcore.py:1119: FutureWarning: use_inf_as_na option is deprecated and will be removed in a future version. Convert inf values to NaN before operating instead.\n",
      "  with pd.option_context('mode.use_inf_as_na', True):\n"
     ]
    },
    {
     "data": {
      "image/png": "[encoded data removed]",
      "text/plain": [
       "<Figure size 600x400 with 1 Axes>"
      ]
     },
     "metadata": {},
     "output_type": "display_data"
    }
   ],
   "source": [
    "plt.figure(figsize=(6, 4))\n",
    "\n",
    "sns.histplot(df.final_price) #, bins=40, color='black', alpha=1)\n",
    "plt.ylabel('Frequency')\n",
    "plt.xlabel('Final price')\n",
    "plt.title('Distribution of final prices')\n",
    "\n",
    "plt.show()"
   ]
  },
  {
   "cell_type": "markdown",
   "id": "563d6eb7-7dc7-486f-b5f2-42e181b6936a",
   "metadata": {},
   "source": [
    "As we see, final_price has a long tail for values > 4000 for final price."
   ]
  },
  {
   "cell_type": "markdown",
   "id": "3a6736f0-ee65-436e-9ef4-d3fb3dcbcd90",
   "metadata": {},
   "source": [
    "Question 1 : \n",
    "\n",
    "The one column with missing values is : screen"
   ]
  },
  {
   "cell_type": "code",
   "execution_count": 9,
   "id": "8d04e6a7-32ff-40e4-be2e-112f6363b211",
   "metadata": {},
   "outputs": [
    {
     "data": {
      "text/plain": [
       "laptop             0\n",
       "status             0\n",
       "brand              0\n",
       "model              0\n",
       "cpu                0\n",
       "ram                0\n",
       "storage            0\n",
       "storage_type      42\n",
       "gpu             1371\n",
       "screen             4\n",
       "touch              0\n",
       "final_price        0\n",
       "dtype: int64"
      ]
     },
     "execution_count": 9,
     "metadata": {},
     "output_type": "execute_result"
    }
   ],
   "source": [
    "df.isnull().sum()"
   ]
  },
  {
   "cell_type": "markdown",
   "id": "5bfbb42e-8a94-4925-bd8c-856809afd155",
   "metadata": {},
   "source": [
    "Question 2 :\n",
    "\n",
    "What's the median (50% percentile) for variable 'ram'? it's 16 ! "
   ]
  },
  {
   "cell_type": "code",
   "execution_count": 10,
   "id": "fac84c33-0c25-477d-b3f7-97047a57283c",
   "metadata": {},
   "outputs": [
    {
     "data": {
      "text/plain": [
       "16.0"
      ]
     },
     "execution_count": 10,
     "metadata": {},
     "output_type": "execute_result"
    }
   ],
   "source": [
    "df.ram.head(20)\n",
    "df.ram.median()"
   ]
  },
  {
   "cell_type": "markdown",
   "id": "4380d0d3-fc21-4626-9558-11d60a4107ce",
   "metadata": {},
   "source": [
    "Prepare and split the dataset\n"
   ]
  },
  {
   "cell_type": "code",
   "execution_count": 11,
   "id": "668906af-5dec-4a19-99e3-4806ac8e72c4",
   "metadata": {},
   "outputs": [],
   "source": [
    "np.random.seed(42)"
   ]
  },
  {
   "cell_type": "code",
   "execution_count": 12,
   "id": "6bc6ebde-029e-4004-8bf7-714194f9edb8",
   "metadata": {},
   "outputs": [],
   "source": [
    "n = len(df)\n",
    "id_all = np.arange(n)\n",
    "np.random.shuffle(id_all)"
   ]
  },
  {
   "cell_type": "code",
   "execution_count": 13,
   "id": "70fafc23-4b90-4bd3-8878-bbb5a64534c5",
   "metadata": {},
   "outputs": [
    {
     "data": {
      "text/html": [
       "<div>\n",
       "<style scoped>\n",
       "    .dataframe tbody tr th:only-of-type {\n",
       "        vertical-align: middle;\n",
       "    }\n",
       "\n",
       "    .dataframe tbody tr th {\n",
       "        vertical-align: top;\n",
       "    }\n",
       "\n",
       "    .dataframe thead th {\n",
       "        text-align: right;\n",
       "    }\n",
       "</style>\n",
       "<table border=\"1\" class=\"dataframe\">\n",
       "  <thead>\n",
       "    <tr style=\"text-align: right;\">\n",
       "      <th></th>\n",
       "      <th>laptop</th>\n",
       "      <th>status</th>\n",
       "      <th>brand</th>\n",
       "      <th>model</th>\n",
       "      <th>cpu</th>\n",
       "      <th>ram</th>\n",
       "      <th>storage</th>\n",
       "      <th>storage_type</th>\n",
       "      <th>gpu</th>\n",
       "      <th>screen</th>\n",
       "      <th>touch</th>\n",
       "      <th>final_price</th>\n",
       "    </tr>\n",
       "  </thead>\n",
       "  <tbody>\n",
       "    <tr>\n",
       "      <th>0</th>\n",
       "      <td>MSI Modern 15 A11SBU-620XES Intel Core i7-1165...</td>\n",
       "      <td>Refurbished</td>\n",
       "      <td>MSI</td>\n",
       "      <td>Modern</td>\n",
       "      <td>Intel Core i7</td>\n",
       "      <td>32</td>\n",
       "      <td>1000</td>\n",
       "      <td>SSD</td>\n",
       "      <td>MX 450</td>\n",
       "      <td>15.6</td>\n",
       "      <td>No</td>\n",
       "      <td>1123.29</td>\n",
       "    </tr>\n",
       "    <tr>\n",
       "      <th>1</th>\n",
       "      <td>Thomson Neo White Intel Celeron N4020/4GB/64GB...</td>\n",
       "      <td>New</td>\n",
       "      <td>Thomson</td>\n",
       "      <td>Neo</td>\n",
       "      <td>Intel Celeron</td>\n",
       "      <td>4</td>\n",
       "      <td>64</td>\n",
       "      <td>eMMC</td>\n",
       "      <td>NaN</td>\n",
       "      <td>14.1</td>\n",
       "      <td>No</td>\n",
       "      <td>201.05</td>\n",
       "    </tr>\n",
       "    <tr>\n",
       "      <th>2</th>\n",
       "      <td>MSI Modern 14 B11SB-420XES Intel Core i7-1165G...</td>\n",
       "      <td>Refurbished</td>\n",
       "      <td>MSI</td>\n",
       "      <td>Modern</td>\n",
       "      <td>Intel Core i7</td>\n",
       "      <td>32</td>\n",
       "      <td>1000</td>\n",
       "      <td>SSD</td>\n",
       "      <td>MX 450</td>\n",
       "      <td>14.0</td>\n",
       "      <td>No</td>\n",
       "      <td>997.74</td>\n",
       "    </tr>\n",
       "    <tr>\n",
       "      <th>3</th>\n",
       "      <td>ASUS ZenBook 13 OLED UX325EA Intel Evo Core i7...</td>\n",
       "      <td>New</td>\n",
       "      <td>Asus</td>\n",
       "      <td>ZenBook</td>\n",
       "      <td>Intel Evo Core i7</td>\n",
       "      <td>16</td>\n",
       "      <td>512</td>\n",
       "      <td>SSD</td>\n",
       "      <td>NaN</td>\n",
       "      <td>13.3</td>\n",
       "      <td>No</td>\n",
       "      <td>1016.00</td>\n",
       "    </tr>\n",
       "    <tr>\n",
       "      <th>4</th>\n",
       "      <td>Acer Predator Triton 500 SE PT516-51s-75K6 Int...</td>\n",
       "      <td>New</td>\n",
       "      <td>Acer</td>\n",
       "      <td>Predator</td>\n",
       "      <td>Intel Core i7</td>\n",
       "      <td>32</td>\n",
       "      <td>1000</td>\n",
       "      <td>SSD</td>\n",
       "      <td>RTX 3080</td>\n",
       "      <td>16.0</td>\n",
       "      <td>No</td>\n",
       "      <td>2739.00</td>\n",
       "    </tr>\n",
       "  </tbody>\n",
       "</table>\n",
       "</div>"
      ],
      "text/plain": [
       "                                              laptop       status    brand  \\\n",
       "0  MSI Modern 15 A11SBU-620XES Intel Core i7-1165...  Refurbished      MSI   \n",
       "1  Thomson Neo White Intel Celeron N4020/4GB/64GB...          New  Thomson   \n",
       "2  MSI Modern 14 B11SB-420XES Intel Core i7-1165G...  Refurbished      MSI   \n",
       "3  ASUS ZenBook 13 OLED UX325EA Intel Evo Core i7...          New     Asus   \n",
       "4  Acer Predator Triton 500 SE PT516-51s-75K6 Int...          New     Acer   \n",
       "\n",
       "      model                cpu  ram  storage storage_type       gpu  screen  \\\n",
       "0    Modern      Intel Core i7   32     1000          SSD    MX 450    15.6   \n",
       "1       Neo      Intel Celeron    4       64         eMMC       NaN    14.1   \n",
       "2    Modern      Intel Core i7   32     1000          SSD    MX 450    14.0   \n",
       "3   ZenBook  Intel Evo Core i7   16      512          SSD       NaN    13.3   \n",
       "4  Predator      Intel Core i7   32     1000          SSD  RTX 3080    16.0   \n",
       "\n",
       "  touch  final_price  \n",
       "0    No      1123.29  \n",
       "1    No       201.05  \n",
       "2    No       997.74  \n",
       "3    No      1016.00  \n",
       "4    No      2739.00  "
      ]
     },
     "execution_count": 13,
     "metadata": {},
     "output_type": "execute_result"
    }
   ],
   "source": [
    "df_shuffled = df.iloc[id_all].copy()\n",
    "df_shuffled.reset_index(drop = True, inplace = True)\n",
    "df_shuffled.head()"
   ]
  },
  {
   "cell_type": "code",
   "execution_count": 14,
   "id": "91643a9a-7ac0-4eba-b539-2fca3f19e77b",
   "metadata": {},
   "outputs": [],
   "source": [
    "n_val = int(0.2 * n)\n",
    "n_test = int(0.2 * n)\n",
    "n_train = n - n_val - n_test"
   ]
  },
  {
   "cell_type": "code",
   "execution_count": 15,
   "id": "3a6b15ad-df43-4524-bcaa-0f5e624a93f5",
   "metadata": {},
   "outputs": [],
   "source": [
    "df_train = df_shuffled.iloc[:n_train].copy()\n",
    "df_val = df_shuffled.iloc[n_train:n_train + n_val].copy()\n",
    "df_test = df_shuffled.iloc[n_train + n_val:n_train + n_val + n_test].copy()"
   ]
  },
  {
   "cell_type": "code",
   "execution_count": 16,
   "id": "c8df6665-bdaf-4a59-9c59-50eefb76a45f",
   "metadata": {},
   "outputs": [
    {
     "data": {
      "text/plain": [
       "(1296, 432, 432, 2160, 2160)"
      ]
     },
     "execution_count": 16,
     "metadata": {},
     "output_type": "execute_result"
    }
   ],
   "source": [
    "len(df_train), len(df_val), len(df_test), n, len(df_train) + len(df_val) + len(df_test)"
   ]
  },
  {
   "cell_type": "markdown",
   "id": "42cbf220-0ea3-48cc-bd39-412aee51f4d8",
   "metadata": {},
   "source": [
    "# Question 3 :"
   ]
  },
  {
   "cell_type": "markdown",
   "id": "5cec5c58-8385-49a3-b3d9-b8828dbf5248",
   "metadata": {},
   "source": [
    "## Linear Regression"
   ]
  },
  {
   "cell_type": "code",
   "execution_count": 17,
   "id": "26f3ba14-17c0-4847-ac3b-11295bb4822a",
   "metadata": {},
   "outputs": [],
   "source": [
    "def train_linear_regression(X, y):\n",
    "    ones = np.ones(X.shape[0])\n",
    "    X = np.column_stack([ones, X])\n",
    "\n",
    "    XTX = X.T.dot(X)\n",
    "    XTX_inv = np.linalg.inv(XTX)\n",
    "    w = XTX_inv.dot(X.T).dot(y)\n",
    "    \n",
    "    return w[0], w[1:]"
   ]
  },
  {
   "cell_type": "code",
   "execution_count": 18,
   "id": "43e7ffed-587b-4867-82a9-bb4f276e7b5c",
   "metadata": {},
   "outputs": [
    {
     "data": {
      "text/plain": [
       "laptop           object\n",
       "status           object\n",
       "brand            object\n",
       "model            object\n",
       "cpu              object\n",
       "ram               int64\n",
       "storage           int64\n",
       "storage_type     object\n",
       "gpu              object\n",
       "screen          float64\n",
       "touch            object\n",
       "final_price     float64\n",
       "dtype: object"
      ]
     },
     "execution_count": 18,
     "metadata": {},
     "output_type": "execute_result"
    }
   ],
   "source": [
    "# At this level, we have to do linear regression only on the numerical variable\n",
    "df.dtypes"
   ]
  },
  {
   "cell_type": "code",
   "execution_count": 19,
   "id": "486b9b06-3915-49e7-b9e2-a8357024528f",
   "metadata": {},
   "outputs": [
    {
     "data": {
      "text/plain": [
       "['ram', 'storage', 'screen', 'final_price']"
      ]
     },
     "execution_count": 19,
     "metadata": {},
     "output_type": "execute_result"
    }
   ],
   "source": [
    "base = list(df.dtypes[df.dtypes != 'object'].index)\n",
    "base #this is the numerical columns to apply linear regression on "
   ]
  },
  {
   "cell_type": "code",
   "execution_count": 20,
   "id": "0d06357e-32f8-4013-b453-cb245b27a41c",
   "metadata": {},
   "outputs": [],
   "source": [
    "df_train_filled = df_train[base].copy() "
   ]
  },
  {
   "cell_type": "code",
   "execution_count": 35,
   "id": "a4a09f80-9557-47ab-bb6a-0f6220b6029d",
   "metadata": {},
   "outputs": [],
   "source": [
    "def prepare_X(df, value_fill):\n",
    "    df[\"screen\"] = df[\"screen\"].fillna(value_fill)\n",
    "    #print(df[\"screen\"].mean())\n",
    "    y = df[\"final_price\"].copy()\n",
    "    del df[\"final_price\"]\n",
    "    return df, y"
   ]
  },
  {
   "cell_type": "code",
   "execution_count": 22,
   "id": "edd4a647-a39e-4e28-8b2e-1963403a9960",
   "metadata": {},
   "outputs": [
    {
     "name": "stdout",
     "output_type": "stream",
     "text": [
      "15.128433641975306\n",
      "676.8954853013648 [ 43.70681555   0.86506867 -36.10399833]\n"
     ]
    }
   ],
   "source": [
    "\n",
    "#option fill with 0\n",
    "df_train_filled, y_train = prepare_X(df_train_filled, 0)\n",
    "w0, w = train_linear_regression(df_train_filled, y_train)\n",
    "print(w0, w)\n"
   ]
  },
  {
   "cell_type": "code",
   "execution_count": 23,
   "id": "2d97e305-71ac-4e74-b21f-1f95b016b56c",
   "metadata": {},
   "outputs": [],
   "source": [
    "def rmse(y, y_pred):\n",
    "    error = y_pred - y\n",
    "    mse = (error ** 2).mean()\n",
    "    return round(np.sqrt(mse),2)"
   ]
  },
  {
   "cell_type": "code",
   "execution_count": 24,
   "id": "acfa78c4-e566-4fd4-a34f-e1111dddef21",
   "metadata": {},
   "outputs": [
    {
     "name": "stdout",
     "output_type": "stream",
     "text": [
      "0       2377.359877\n",
      "1        398.020766\n",
      "2       2435.126274\n",
      "3       1338.936514\n",
      "4       2362.918277\n",
      "           ...     \n",
      "1291     742.551612\n",
      "1292    2362.918277\n",
      "1293    1255.897318\n",
      "1294    1313.663715\n",
      "1295    1313.663715\n",
      "Length: 1296, dtype: float64\n"
     ]
    },
    {
     "data": {
      "text/plain": [
       "602.39"
      ]
     },
     "execution_count": 24,
     "metadata": {},
     "output_type": "execute_result"
    }
   ],
   "source": [
    "#applying the model on the train dataset and calculating the rmse\n",
    "y_train_pred = w0 + df_train_filled.dot(w)\n",
    "print(y_train_pred)\n",
    "rmse(y_train, y_train_pred) "
   ]
  },
  {
   "cell_type": "code",
   "execution_count": 25,
   "id": "bef0c43d-8f10-431d-a6ca-aa67d34cc5cc",
   "metadata": {},
   "outputs": [
    {
     "name": "stdout",
     "output_type": "stream",
     "text": [
      "15.114814814814816\n",
      "438.8289421166145 [ 43.4621711    1.17298232 -31.86421068]\n",
      "1296    2492.773369\n",
      "1297    1237.708942\n",
      "1298    1063.860258\n",
      "1299     653.456520\n",
      "1300     890.011573\n",
      "           ...     \n",
      "1723     522.433309\n",
      "1724     663.015783\n",
      "1725     940.994310\n",
      "1726    1288.691679\n",
      "1727     241.649546\n",
      "Length: 432, dtype: float64\n"
     ]
    },
    {
     "data": {
      "text/plain": [
       "589.28"
      ]
     },
     "execution_count": 25,
     "metadata": {},
     "output_type": "execute_result"
    }
   ],
   "source": [
    "#applying the model with fillna 0 on the validation dataset and calculating the rmse\n",
    "df_val_filled = df_val[base].copy()\n",
    "\n",
    "df_val_filled, y = prepare_X(df_val_filled, 0)\n",
    "w0, w = train_linear_regression(df_val_filled, y)\n",
    "print(w0, w)\n",
    "\n",
    "y_pred = w0 + df_val_filled.dot(w)\n",
    "print(y_pred)\n",
    "rmse(y, y_pred)"
   ]
  },
  {
   "cell_type": "code",
   "execution_count": 26,
   "id": "4ce21a3d-28b9-4e6c-84b1-4c3548f3b308",
   "metadata": {},
   "outputs": [],
   "source": [
    "df_train_filled = df_train[base].copy() "
   ]
  },
  {
   "cell_type": "code",
   "execution_count": 27,
   "id": "bac420b7-05a2-44e5-8865-167cbf08252d",
   "metadata": {},
   "outputs": [
    {
     "name": "stdout",
     "output_type": "stream",
     "text": [
      "15.163534416086618\n",
      "15.16353441608662\n",
      "808.9159907349447 [ 43.90774584   0.87135236 -45.18273312]\n"
     ]
    }
   ],
   "source": [
    "\n",
    "#option fill with mean\n",
    "print(df_train_filled[\"screen\"].mean())\n",
    "df_train_filled, y_train = prepare_X(df_train_filled, df_train_filled[\"screen\"].mean())\n",
    "w0, w = train_linear_regression(df_train_filled, y_train)\n",
    "print(w0, w)"
   ]
  },
  {
   "cell_type": "code",
   "execution_count": 28,
   "id": "3edfce17-c31b-463a-b10d-c30cc2939c31",
   "metadata": {},
   "outputs": [
    {
     "name": "stdout",
     "output_type": "stream",
     "text": [
      "0       2380.465582\n",
      "1        403.236988\n",
      "2       2452.757955\n",
      "3       1356.641983\n",
      "4       2362.392489\n",
      "           ...     \n",
      "1291     750.685898\n",
      "1292    2362.392489\n",
      "1293    1252.721697\n",
      "1294    1325.014070\n",
      "1295    1325.014070\n",
      "Length: 1296, dtype: float64\n"
     ]
    },
    {
     "data": {
      "text/plain": [
       "602.18"
      ]
     },
     "execution_count": 28,
     "metadata": {},
     "output_type": "execute_result"
    }
   ],
   "source": [
    "#applying the model on the train dataset and calculating the rmse\n",
    "y_train_pred = w0 + df_train_filled.dot(w)\n",
    "print(y_train_pred)\n",
    "rmse(y_train, y_train_pred)"
   ]
  },
  {
   "cell_type": "code",
   "execution_count": 29,
   "id": "81d794d9-6ef4-4081-92a8-e6836ba6c6be",
   "metadata": {},
   "outputs": [
    {
     "name": "stdout",
     "output_type": "stream",
     "text": [
      "15.149883990719255\n",
      "54.209454092383154 [43.2498518   1.13713451 -4.82880936]\n",
      "1296    2498.078274\n",
      "1297    1253.090527\n",
      "1298    1080.091120\n",
      "1299     625.642896\n",
      "1300     907.091712\n",
      "           ...     \n",
      "1723     482.986964\n",
      "1724     627.091539\n",
      "1725     914.817807\n",
      "1726    1260.816622\n",
      "1727     232.382139\n",
      "Length: 432, dtype: float64\n"
     ]
    },
    {
     "data": {
      "text/plain": [
       "590.65"
      ]
     },
     "execution_count": 29,
     "metadata": {},
     "output_type": "execute_result"
    }
   ],
   "source": [
    "#applying the model with fillna mean() on the validation dataset and calculating the rmse\n",
    "df_val_filled = df_val[base].copy()\n",
    "\n",
    "df_val_filled, y = prepare_X(df_val_filled, df_val_filled[\"screen\"].mean())\n",
    "w0, w = train_linear_regression(df_val_filled, y)\n",
    "print(w0, w)\n",
    "\n",
    "y_pred = w0 + df_val_filled.dot(w)\n",
    "print(y_pred)\n",
    "rmse(y, y_pred)"
   ]
  },
  {
   "cell_type": "markdown",
   "id": "34bfbc0a-cd42-4f10-9fc9-5d3e0c2c8db8",
   "metadata": {},
   "source": [
    "## Answer for question 3 :\n",
    "RMSE for Model with fillna(0) applied to val dataset is 589.28 and for Model with fillna with mean() applied to val dataset is 590.65. The first one is slightly better."
   ]
  },
  {
   "cell_type": "markdown",
   "id": "8464950b-d0c1-42d1-b0d4-ff04d56e3aa7",
   "metadata": {},
   "source": [
    "## Question 4 "
   ]
  },
  {
   "cell_type": "code",
   "execution_count": 30,
   "id": "6bde4612-22f4-4c9e-97b5-d448c919456d",
   "metadata": {},
   "outputs": [],
   "source": [
    "def train_linear_regression_reg(X, y, r=0.0):\n",
    "    ones = np.ones(X.shape[0])\n",
    "    X = np.column_stack([ones, X])\n",
    "\n",
    "    XTX = X.T.dot(X)\n",
    "    reg = r * np.eye(XTX.shape[0])\n",
    "    XTX = XTX + reg\n",
    "\n",
    "    XTX_inv = np.linalg.inv(XTX)\n",
    "    w = XTX_inv.dot(X.T).dot(y)\n",
    "    \n",
    "    return w[0], w[1:]"
   ]
  },
  {
   "cell_type": "code",
   "execution_count": 31,
   "id": "1dac7519-674d-41d7-9641-f5b7064631cd",
   "metadata": {},
   "outputs": [
    {
     "name": "stdout",
     "output_type": "stream",
     "text": [
      "15.128433641975306\n",
      "15.114814814814816\n",
      "for regularization value 0, the RMSE is 597.36\n",
      "for regularization value 0.01, the RMSE is 597.36\n",
      "for regularization value 0.1, the RMSE is 597.35\n",
      "for regularization value 1, the RMSE is 597.21\n",
      "for regularization value 5, the RMSE is 597.01\n",
      "for regularization value 10, the RMSE is 597.06\n",
      "for regularization value 100, the RMSE is 597.9\n"
     ]
    }
   ],
   "source": [
    "df_train_filled = df_train[base].copy()\n",
    "df_train_filled, y_train = prepare_X(df_train_filled, 0)\n",
    "\n",
    "df_val_filled = df_val[base].copy()\n",
    "df_val_filled, y_val = prepare_X(df_val_filled, 0)\n",
    "\n",
    "r_values = [0, 0.01, 0.1, 1, 5, 10, 100]\n",
    "\n",
    "for r in r_values :\n",
    "    w0, w = train_linear_regression_reg(df_train_filled, y_train, r)\n",
    "    y_pred = w0 + df_val_filled.dot(w)\n",
    "    print(f'for regularization value {r}, the RMSE is {rmse(y_val, y_pred)}')\n"
   ]
  },
  {
   "cell_type": "markdown",
   "id": "2ed894c8-58d7-4b78-9771-1a4d947f64e9",
   "metadata": {},
   "source": [
    "### answer 4: r = 5 gives the best RMSE, but among the options proposed in the answers , r = 1"
   ]
  },
  {
   "cell_type": "markdown",
   "id": "f573e8a2-30ce-4ec3-9d78-d108f638cfb0",
   "metadata": {},
   "source": [
    "## Question 5"
   ]
  },
  {
   "cell_type": "code",
   "execution_count": 36,
   "id": "b9eb5205-8796-4527-81f1-4239b877604f",
   "metadata": {},
   "outputs": [
    {
     "name": "stdout",
     "output_type": "stream",
     "text": [
      "For seed 0, rmse is 565.45\n",
      "For seed 1, rmse is 636.8\n",
      "For seed 2, rmse is 588.96\n",
      "For seed 3, rmse is 597.81\n",
      "For seed 4, rmse is 571.96\n",
      "For seed 5, rmse is 573.24\n",
      "For seed 6, rmse is 647.34\n",
      "For seed 7, rmse is 550.44\n",
      "For seed 8, rmse is 587.33\n",
      "For seed 9, rmse is 576.1\n"
     ]
    }
   ],
   "source": [
    "base = ['ram', 'storage', 'screen', 'final_price']\n",
    "seed_list = []\n",
    "rmse_list = []\n",
    "for n in np.arange(10): \n",
    "    np.random.seed(n)\n",
    "\n",
    "    #do the split\n",
    "    p = len(df)\n",
    "    id_all = np.arange(p)\n",
    "    np.random.shuffle(id_all)\n",
    "\n",
    "    df_shuffled = df.iloc[id_all].copy()\n",
    "    df_shuffled.reset_index(drop = True, inplace = True)\n",
    "    #df_shuffled.head()\n",
    "\n",
    "    n_val = int(0.2 * p)\n",
    "    n_test = int(0.2 * p)\n",
    "    n_train = p - n_val - n_test\n",
    "    \n",
    "    df_train = df_shuffled.iloc[:n_train].copy()\n",
    "    df_val = df_shuffled.iloc[n_train:n_train + n_val].copy()\n",
    "    df_test = df_shuffled.iloc[n_train + n_val:n_train + n_val + n_test].copy()\n",
    "\n",
    "    df_train_filled = df_train[base].copy() \n",
    "    df_train_filled, y_train = prepare_X(df_train_filled, 0)\n",
    "    \n",
    "    w0, w = train_linear_regression(df_train_filled, y_train)\n",
    "\n",
    "    df_val_filled = df_val[base].copy()\n",
    "    df_val_filled, y_val = prepare_X(df_val_filled, 0)\n",
    "\n",
    "    y_pred = w0 + df_val_filled.dot(w)\n",
    "    rmse_n = rmse(y_val, y_pred)\n",
    "    seed_list.append(n)\n",
    "    rmse_list.append(rmse_n)\n",
    "    print(f'For seed {n}, rmse is {rmse_n}')\n",
    "    "
   ]
  },
  {
   "cell_type": "code",
   "execution_count": null,
   "id": "2752d819-eb4a-4443-ae92-05d66a5e120e",
   "metadata": {},
   "outputs": [],
   "source": [
    "max(rmse_list)"
   ]
  },
  {
   "cell_type": "code",
   "execution_count": 37,
   "id": "0bf65e6a-eb0e-431f-9433-26e1d091c5ea",
   "metadata": {},
   "outputs": [
    {
     "data": {
      "text/plain": [
       "29.176"
      ]
     },
     "execution_count": 37,
     "metadata": {},
     "output_type": "execute_result"
    }
   ],
   "source": [
    "round(np.std(rmse_list),3)"
   ]
  },
  {
   "cell_type": "markdown",
   "id": "e62c4ac5-dcfd-4ba1-a815-52e27c32db96",
   "metadata": {},
   "source": [
    "### answer 5 : the value of std is 29.176"
   ]
  },
  {
   "cell_type": "markdown",
   "id": "03cdf0ec-99e1-4e3a-96b1-aa3a8b011226",
   "metadata": {},
   "source": [
    "## Question 6"
   ]
  },
  {
   "cell_type": "code",
   "execution_count": 38,
   "id": "33648db7-00f2-49a7-afbd-d3d4fa702450",
   "metadata": {},
   "outputs": [
    {
     "name": "stdout",
     "output_type": "stream",
     "text": [
      "For seed 9, rmse is 608.61\n"
     ]
    }
   ],
   "source": [
    "n = 9\n",
    "np.random.seed(n)\n",
    "\n",
    "#do the split\n",
    "p = len(df)\n",
    "id_all = np.arange(p)\n",
    "np.random.shuffle(id_all)\n",
    "df_shuffled = df.iloc[id_all].copy()\n",
    "df_shuffled.reset_index(drop = True, inplace = True)\n",
    "\n",
    "n_test = int(0.2 * p)\n",
    "n_train = p - n_test\n",
    "\n",
    "df_train = df_shuffled.iloc[:n_train].copy()\n",
    "df_test = df_shuffled.iloc[n_train:].copy()\n",
    "\n",
    "df_train = df_train[base].copy()\n",
    "df_train_filled, y_train = prepare_X(df_train, 0)\n",
    "\n",
    "w0, w = train_linear_regression_reg(df_train_filled, y_train, 0.001)\n",
    "\n",
    "df_test = df_test[base].copy()\n",
    "df_test_filled, y_test = prepare_X(df_test, 0)\n",
    "\n",
    "y_pred = w0 + df_test_filled.dot(w)\n",
    "rmse = rmse(y_test, y_pred)\n",
    "print(f'For seed {n}, rmse is {rmse}')"
   ]
  },
  {
   "cell_type": "markdown",
   "id": "c8c60251-091c-44e1-b48e-27466bf254b2",
   "metadata": {},
   "source": [
    "### answer 6 : the RMSE on the test dataset is 608.61"
   ]
  },
  {
   "cell_type": "code",
   "execution_count": null,
   "id": "2d6676a0-6639-4d6d-a9de-fef1cb0569c9",
   "metadata": {},
   "outputs": [],
   "source": []
  }
 ],
 "metadata": {
  "kernelspec": {
   "display_name": "Python 3 (ipykernel)",
   "language": "python",
   "name": "python3"
  },
  "language_info": {
   "codemirror_mode": {
    "name": "ipython",
    "version": 3
   },
   "file_extension": ".py",
   "mimetype": "text/x-python",
   "name": "python",
   "nbconvert_exporter": "python",
   "pygments_lexer": "ipython3",
   "version": "3.11.7"
  }
 },
 "nbformat": 4,
 "nbformat_minor": 5
}
