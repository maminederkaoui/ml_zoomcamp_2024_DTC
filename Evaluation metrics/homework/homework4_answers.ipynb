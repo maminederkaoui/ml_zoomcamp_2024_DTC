{
 "cells": [
  {
   "cell_type": "code",
   "execution_count": 29,
   "id": "f29ae846-6321-418d-891f-be1c49d59cc6",
   "metadata": {},
   "outputs": [],
   "source": [
    "import pandas as pd\n",
    "import numpy as np\n",
    "\n",
    "import matplotlib.pyplot as plt"
   ]
  },
  {
   "cell_type": "code",
   "execution_count": 2,
   "id": "24ca8d51",
   "metadata": {},
   "outputs": [],
   "source": [
    "from sklearn.model_selection import train_test_split\n",
    "from sklearn.feature_extraction import DictVectorizer\n",
    "from sklearn.linear_model import LogisticRegression"
   ]
  },
  {
   "cell_type": "markdown",
   "id": "9e201a91",
   "metadata": {},
   "source": [
    "### Filtering the raw data"
   ]
  },
  {
   "cell_type": "code",
   "execution_count": 9,
   "id": "a755443b",
   "metadata": {},
   "outputs": [
    {
     "data": {
      "text/html": [
       "<div>\n",
       "<style scoped>\n",
       "    .dataframe tbody tr th:only-of-type {\n",
       "        vertical-align: middle;\n",
       "    }\n",
       "\n",
       "    .dataframe tbody tr th {\n",
       "        vertical-align: top;\n",
       "    }\n",
       "\n",
       "    .dataframe thead th {\n",
       "        text-align: right;\n",
       "    }\n",
       "</style>\n",
       "<table border=\"1\" class=\"dataframe\">\n",
       "  <thead>\n",
       "    <tr style=\"text-align: right;\">\n",
       "      <th></th>\n",
       "      <th>age</th>\n",
       "      <th>job</th>\n",
       "      <th>marital</th>\n",
       "      <th>education</th>\n",
       "      <th>default</th>\n",
       "      <th>balance</th>\n",
       "      <th>housing</th>\n",
       "      <th>loan</th>\n",
       "      <th>contact</th>\n",
       "      <th>day</th>\n",
       "      <th>month</th>\n",
       "      <th>duration</th>\n",
       "      <th>campaign</th>\n",
       "      <th>pdays</th>\n",
       "      <th>previous</th>\n",
       "      <th>poutcome</th>\n",
       "      <th>y</th>\n",
       "    </tr>\n",
       "  </thead>\n",
       "  <tbody>\n",
       "    <tr>\n",
       "      <th>0</th>\n",
       "      <td>58</td>\n",
       "      <td>management</td>\n",
       "      <td>married</td>\n",
       "      <td>tertiary</td>\n",
       "      <td>no</td>\n",
       "      <td>2143</td>\n",
       "      <td>yes</td>\n",
       "      <td>no</td>\n",
       "      <td>unknown</td>\n",
       "      <td>5</td>\n",
       "      <td>may</td>\n",
       "      <td>261</td>\n",
       "      <td>1</td>\n",
       "      <td>-1</td>\n",
       "      <td>0</td>\n",
       "      <td>unknown</td>\n",
       "      <td>no</td>\n",
       "    </tr>\n",
       "    <tr>\n",
       "      <th>1</th>\n",
       "      <td>44</td>\n",
       "      <td>technician</td>\n",
       "      <td>single</td>\n",
       "      <td>secondary</td>\n",
       "      <td>no</td>\n",
       "      <td>29</td>\n",
       "      <td>yes</td>\n",
       "      <td>no</td>\n",
       "      <td>unknown</td>\n",
       "      <td>5</td>\n",
       "      <td>may</td>\n",
       "      <td>151</td>\n",
       "      <td>1</td>\n",
       "      <td>-1</td>\n",
       "      <td>0</td>\n",
       "      <td>unknown</td>\n",
       "      <td>no</td>\n",
       "    </tr>\n",
       "    <tr>\n",
       "      <th>2</th>\n",
       "      <td>33</td>\n",
       "      <td>entrepreneur</td>\n",
       "      <td>married</td>\n",
       "      <td>secondary</td>\n",
       "      <td>no</td>\n",
       "      <td>2</td>\n",
       "      <td>yes</td>\n",
       "      <td>yes</td>\n",
       "      <td>unknown</td>\n",
       "      <td>5</td>\n",
       "      <td>may</td>\n",
       "      <td>76</td>\n",
       "      <td>1</td>\n",
       "      <td>-1</td>\n",
       "      <td>0</td>\n",
       "      <td>unknown</td>\n",
       "      <td>no</td>\n",
       "    </tr>\n",
       "    <tr>\n",
       "      <th>3</th>\n",
       "      <td>47</td>\n",
       "      <td>blue-collar</td>\n",
       "      <td>married</td>\n",
       "      <td>unknown</td>\n",
       "      <td>no</td>\n",
       "      <td>1506</td>\n",
       "      <td>yes</td>\n",
       "      <td>no</td>\n",
       "      <td>unknown</td>\n",
       "      <td>5</td>\n",
       "      <td>may</td>\n",
       "      <td>92</td>\n",
       "      <td>1</td>\n",
       "      <td>-1</td>\n",
       "      <td>0</td>\n",
       "      <td>unknown</td>\n",
       "      <td>no</td>\n",
       "    </tr>\n",
       "    <tr>\n",
       "      <th>4</th>\n",
       "      <td>33</td>\n",
       "      <td>unknown</td>\n",
       "      <td>single</td>\n",
       "      <td>unknown</td>\n",
       "      <td>no</td>\n",
       "      <td>1</td>\n",
       "      <td>no</td>\n",
       "      <td>no</td>\n",
       "      <td>unknown</td>\n",
       "      <td>5</td>\n",
       "      <td>may</td>\n",
       "      <td>198</td>\n",
       "      <td>1</td>\n",
       "      <td>-1</td>\n",
       "      <td>0</td>\n",
       "      <td>unknown</td>\n",
       "      <td>no</td>\n",
       "    </tr>\n",
       "  </tbody>\n",
       "</table>\n",
       "</div>"
      ],
      "text/plain": [
       "   age           job  marital  education default  balance housing loan  \\\n",
       "0   58    management  married   tertiary      no     2143     yes   no   \n",
       "1   44    technician   single  secondary      no       29     yes   no   \n",
       "2   33  entrepreneur  married  secondary      no        2     yes  yes   \n",
       "3   47   blue-collar  married    unknown      no     1506     yes   no   \n",
       "4   33       unknown   single    unknown      no        1      no   no   \n",
       "\n",
       "   contact  day month  duration  campaign  pdays  previous poutcome   y  \n",
       "0  unknown    5   may       261         1     -1         0  unknown  no  \n",
       "1  unknown    5   may       151         1     -1         0  unknown  no  \n",
       "2  unknown    5   may        76         1     -1         0  unknown  no  \n",
       "3  unknown    5   may        92         1     -1         0  unknown  no  \n",
       "4  unknown    5   may       198         1     -1         0  unknown  no  "
      ]
     },
     "execution_count": 9,
     "metadata": {},
     "output_type": "execute_result"
    }
   ],
   "source": [
    "df = pd.read_csv(\"bank-full.csv\", delimiter = \";\")\n",
    "df.head()"
   ]
  },
  {
   "cell_type": "code",
   "execution_count": 10,
   "id": "c609cb2d",
   "metadata": {},
   "outputs": [
    {
     "data": {
      "text/plain": [
       "Index(['age', 'job', 'marital', 'education', 'default', 'balance', 'housing',\n",
       "       'loan', 'contact', 'day', 'month', 'duration', 'campaign', 'pdays',\n",
       "       'previous', 'poutcome', 'y'],\n",
       "      dtype='object')"
      ]
     },
     "execution_count": 10,
     "metadata": {},
     "output_type": "execute_result"
    }
   ],
   "source": [
    "df.columns "
   ]
  },
  {
   "cell_type": "code",
   "execution_count": 11,
   "id": "a94ddac7",
   "metadata": {},
   "outputs": [
    {
     "data": {
      "text/plain": [
       "Index(['age', 'job', 'marital', 'education', 'balance', 'housing', 'contact',\n",
       "       'day', 'month', 'duration', 'campaign', 'pdays', 'previous', 'poutcome',\n",
       "       'y'],\n",
       "      dtype='object')"
      ]
     },
     "execution_count": 11,
     "metadata": {},
     "output_type": "execute_result"
    }
   ],
   "source": [
    "cols = ['age', 'job', 'marital', 'education', 'balance', 'housing',\n",
    "       'contact', 'day', 'month', 'duration', 'campaign', 'pdays',\n",
    "       'previous', 'poutcome', 'y']\n",
    "\n",
    "df = df[cols]\n",
    "df.columns"
   ]
  },
  {
   "cell_type": "code",
   "execution_count": 12,
   "id": "ba09eee4",
   "metadata": {},
   "outputs": [],
   "source": [
    "df_full_train, df_test = train_test_split(df, test_size = 0.2, random_state= 1)\n",
    "df_train, df_val = train_test_split(df_full_train, test_size = 0.25, random_state= 1)\n"
   ]
  },
  {
   "cell_type": "markdown",
   "id": "23ff39f5",
   "metadata": {},
   "source": [
    "#### Question 1: ROC AUC feature importance"
   ]
  },
  {
   "cell_type": "code",
   "execution_count": 13,
   "id": "f76197f4",
   "metadata": {},
   "outputs": [
    {
     "data": {
      "text/plain": [
       "['age', 'balance', 'day', 'duration', 'campaign', 'pdays', 'previous']"
      ]
     },
     "execution_count": 13,
     "metadata": {},
     "output_type": "execute_result"
    }
   ],
   "source": [
    "numerical = list(df_full_train.columns[(df_full_train.dtypes != object)])\n",
    "numerical"
   ]
  },
  {
   "cell_type": "code",
   "execution_count": 14,
   "id": "658763df",
   "metadata": {},
   "outputs": [],
   "source": [
    "from sklearn.metrics import roc_auc_score"
   ]
  },
  {
   "cell_type": "code",
   "execution_count": 19,
   "id": "30fd72a2",
   "metadata": {},
   "outputs": [
    {
     "name": "stdout",
     "output_type": "stream",
     "text": [
      "[0.488, 0.589, 0.474, 0.815, 0.429, 0.59, 0.599]\n",
      "The numerical variable with max auc equal to 0.815 is duration\n"
     ]
    }
   ],
   "source": [
    "auc_scores = [round(roc_auc_score(df_train[\"y\"], df_train[num_col]),3) for num_col in numerical]\n",
    "max_index = auc_scores.index(max(auc_scores))\n",
    "print(auc_scores)\n",
    "print(f\"The numerical variable with max auc equal to {max(auc_scores)} is {numerical[max_index]}\")\n"
   ]
  },
  {
   "cell_type": "markdown",
   "id": "f967330e",
   "metadata": {},
   "source": [
    "#### Question 2: Training the model"
   ]
  },
  {
   "cell_type": "code",
   "execution_count": 23,
   "id": "e3b8784e",
   "metadata": {},
   "outputs": [
    {
     "name": "stdout",
     "output_type": "stream",
     "text": [
      "the AUC on validation set of the model is 0.9\n"
     ]
    }
   ],
   "source": [
    "all_variables = ['age', 'job', 'marital', 'education', 'balance', 'housing', 'contact', 'day', 'month', 'duration', 'campaign', 'pdays', 'previous', 'poutcome']\n",
    "dv = DictVectorizer(sparse = False)\n",
    "train_dict = df_train[all_variables].to_dict(orient = \"records\")\n",
    "X_train = dv.fit_transform(train_dict)\n",
    "y_train = (df_train[\"y\"] != \"no\").astype(\"int\") \n",
    "model = LogisticRegression(solver='liblinear', C=1.0, max_iter=1000)\n",
    "model.fit(X_train, y_train)\n",
    "\n",
    "val_dict = df_val[all_variables].to_dict(orient = \"records\")\n",
    "X_val = dv.transform(val_dict)\n",
    "y_val = (df_val[\"y\"] != \"no\").astype(\"int\") \n",
    "y_val_predict = model.predict_proba(X_val)[:,1]\n",
    "\n",
    "print(f\"the AUC on validation set of the model is {round(roc_auc_score(y_val, y_val_predict),3)}\")"
   ]
  },
  {
   "cell_type": "markdown",
   "id": "1e1c357c",
   "metadata": {},
   "source": [
    "Looking at the options of the question, the correct answer is 0.89"
   ]
  },
  {
   "cell_type": "markdown",
   "id": "4152045d",
   "metadata": {},
   "source": [
    "#### Question 3: Precision and Recall"
   ]
  },
  {
   "cell_type": "code",
   "execution_count": 41,
   "id": "6c878e20",
   "metadata": {},
   "outputs": [
    {
     "name": "stdout",
     "output_type": "stream",
     "text": [
      "Counter({'no': 7944, 'yes': 1098})\n"
     ]
    },
    {
     "name": "stderr",
     "output_type": "stream",
     "text": [
      "C:\\Users\\mderkaoui\\AppData\\Local\\Temp\\ipykernel_21432\\1046382120.py:23: RuntimeWarning: invalid value encountered in scalar divide\n",
      "  p.append(tp / (tp + fp))\n"
     ]
    },
    {
     "data": {
      "text/plain": [
       "<matplotlib.legend.Legend at 0x2f098a0dc40>"
      ]
     },
     "execution_count": 41,
     "metadata": {},
     "output_type": "execute_result"
    },
    {
     "data": {
      "image/png": "[encoded data removed]",
      "text/plain": [
       "<Figure size 640x480 with 1 Axes>"
      ]
     },
     "metadata": {},
     "output_type": "display_data"
    }
   ],
   "source": [
    "from collections import Counter\n",
    "print(Counter(df_val[\"y\"]))\n",
    "\n",
    "step = 0.01\n",
    "thresholds = np.arange(0, 1 + step, step)\n",
    "\n",
    "actual_positive = (y_val == 1)\n",
    "actual_negative = (y_val == 0)\n",
    "\n",
    "p = []\n",
    "r = []\n",
    "\n",
    "for t in thresholds:\n",
    "    predict_positive = (y_val_predict >= t)\n",
    "    predict_negative = (y_val_predict < t)\n",
    "\n",
    "    tp = (predict_positive & actual_positive).sum()\n",
    "    tn = (predict_negative & actual_negative).sum()\n",
    "\n",
    "    fp = (predict_positive & actual_negative).sum()\n",
    "    fn = (predict_negative & actual_positive).sum()\n",
    "\n",
    "    p.append(tp / (tp + fp))\n",
    "    r.append(tp / (tp + fn))\n",
    "plt.plot(thresholds, p, label='precision')\n",
    "plt.plot(thresholds, r, label='recall')\n",
    "plt.legend()"
   ]
  },
  {
   "cell_type": "markdown",
   "id": "690e5b6e",
   "metadata": {},
   "source": [
    "Precision and Recall curves intersect for threshold approx to 0.265"
   ]
  },
  {
   "cell_type": "markdown",
   "id": "15bee2ea",
   "metadata": {},
   "source": [
    "#### Question 4: F1 score"
   ]
  },
  {
   "cell_type": "code",
   "execution_count": 42,
   "id": "e72c1d7d",
   "metadata": {},
   "outputs": [
    {
     "data": {
      "text/plain": [
       "[<matplotlib.lines.Line2D at 0x2f098a8eba0>]"
      ]
     },
     "execution_count": 42,
     "metadata": {},
     "output_type": "execute_result"
    },
    {
     "data": {
      "image/png": "[encoded data removed]",
      "text/plain": [
       "<Figure size 640x480 with 1 Axes>"
      ]
     },
     "metadata": {},
     "output_type": "display_data"
    }
   ],
   "source": [
    "F1 = 2 * np.array(p) * np.array(r) / ( np.array(p) + np.array(r)) \n",
    "plt.plot(thresholds, F1, label='F1')"
   ]
  },
  {
   "cell_type": "markdown",
   "id": "94408067",
   "metadata": {},
   "source": [
    "F1 is maximal at threshold t = 0.22"
   ]
  },
  {
   "cell_type": "markdown",
   "id": "5f737fa7",
   "metadata": {},
   "source": [
    "#### Question 5: 5-Fold CV"
   ]
  },
  {
   "cell_type": "code",
   "execution_count": 43,
   "id": "628191bc",
   "metadata": {},
   "outputs": [],
   "source": [
    "from sklearn.model_selection import KFold"
   ]
  },
  {
   "cell_type": "code",
   "execution_count": 44,
   "id": "4a1b9cc1",
   "metadata": {},
   "outputs": [
    {
     "name": "stdout",
     "output_type": "stream",
     "text": [
      "Requirement already satisfied: tqdm in c:\\users\\mderkaoui\\appdata\\local\\programs\\python\\python312\\lib\\site-packages (4.66.4)\n",
      "Requirement already satisfied: colorama in c:\\users\\mderkaoui\\appdata\\local\\programs\\python\\python312\\lib\\site-packages (from tqdm) (0.4.6)\n"
     ]
    },
    {
     "name": "stderr",
     "output_type": "stream",
     "text": [
      "WARNING: Ignoring invalid distribution ~otebook (C:\\Users\\mderkaoui\\AppData\\Local\\Programs\\Python\\Python312\\Lib\\site-packages)\n",
      "WARNING: Ignoring invalid distribution ~otebook (C:\\Users\\mderkaoui\\AppData\\Local\\Programs\\Python\\Python312\\Lib\\site-packages)\n",
      "WARNING: Ignoring invalid distribution ~otebook (C:\\Users\\mderkaoui\\AppData\\Local\\Programs\\Python\\Python312\\Lib\\site-packages)\n"
     ]
    }
   ],
   "source": [
    "!pip install tqdm"
   ]
  },
  {
   "cell_type": "code",
   "execution_count": 52,
   "id": "48a999b2",
   "metadata": {},
   "outputs": [
    {
     "name": "stdout",
     "output_type": "stream",
     "text": [
      "0.006\n"
     ]
    }
   ],
   "source": [
    "from tqdm.auto import tqdm\n",
    "\n",
    "kfold = KFold(n_splits=5, shuffle=True, random_state=1)\n",
    "auc_scores = []\n",
    "\n",
    "for train_idx, val_idx in kfold.split(df_full_train):\n",
    "    df_train = df_full_train.iloc[train_idx]\n",
    "    df_val = df_full_train.iloc[val_idx]\n",
    "\n",
    "    y_train = df_train.y.values\n",
    "    y_val = df_val.y.values\n",
    "\n",
    "    train_dict = df_train[all_variables].to_dict(orient = \"records\")\n",
    "    X_train = dv.fit_transform(train_dict)\n",
    "    \n",
    "    model = LogisticRegression(solver='liblinear', C=1.0, max_iter=1000)\n",
    "    model.fit(X_train, y_train)\n",
    "\n",
    "    val_dict = df_val[all_variables].to_dict(orient = \"records\")\n",
    "    X_val = dv.transform(val_dict)\n",
    "\n",
    "    y_pred = model.predict_proba(X_val)[:,1]\n",
    "\n",
    "    auc_scores.append(roc_auc_score(y_val, y_pred))\n",
    "\n",
    "print('%.3f' % np.std(auc_scores))\n"
   ]
  },
  {
   "cell_type": "markdown",
   "id": "accc1f89",
   "metadata": {},
   "source": [
    "The standard deviation of the scores across different folds is 0.006"
   ]
  },
  {
   "cell_type": "markdown",
   "id": "bddae043",
   "metadata": {},
   "source": [
    "#### Question 6: Hyperparameter Tuning"
   ]
  },
  {
   "cell_type": "code",
   "execution_count": 54,
   "id": "8c4de893",
   "metadata": {},
   "outputs": [
    {
     "name": "stdout",
     "output_type": "stream",
     "text": [
      "for C=1e-06  : mean =0.701 and std= 0.009\n",
      "for C=0.001  : mean =0.861 and std= 0.007\n",
      "for C=1  : mean =0.906 and std= 0.006\n"
     ]
    }
   ],
   "source": [
    "c_values = [0.000001, 0.001, 1]\n",
    "\n",
    "kfold = KFold(n_splits=5, shuffle=True, random_state=1)\n",
    "\n",
    "for c in c_values :\n",
    "    auc_scores = []\n",
    "\n",
    "    for train_idx, val_idx in kfold.split(df_full_train):\n",
    "        df_train = df_full_train.iloc[train_idx]\n",
    "        df_val = df_full_train.iloc[val_idx]\n",
    "\n",
    "        y_train = df_train.y.values\n",
    "        y_val = df_val.y.values\n",
    "\n",
    "        train_dict = df_train[all_variables].to_dict(orient = \"records\")\n",
    "        X_train = dv.fit_transform(train_dict)\n",
    "        \n",
    "        model = LogisticRegression(solver='liblinear', C=c, max_iter=1000)\n",
    "        model.fit(X_train, y_train)\n",
    "\n",
    "        val_dict = df_val[all_variables].to_dict(orient = \"records\")\n",
    "        X_val = dv.transform(val_dict)\n",
    "\n",
    "        y_pred = model.predict_proba(X_val)[:,1]\n",
    "\n",
    "        auc_scores.append(roc_auc_score(y_val, y_pred))\n",
    "\n",
    "    print('for C=%s  : mean =%.3f and std= %.3f' % (c, np.mean(auc_scores), np.std(auc_scores)))"
   ]
  },
  {
   "cell_type": "markdown",
   "id": "66344481",
   "metadata": {},
   "source": [
    "The C that leads to the best mean score is 1"
   ]
  },
  {
   "cell_type": "markdown",
   "id": "f279a33b",
   "metadata": {},
   "source": []
  }
 ],
 "metadata": {
  "kernelspec": {
   "display_name": "Python 3",
   "language": "python",
   "name": "python3"
  },
  "language_info": {
   "codemirror_mode": {
    "name": "ipython",
    "version": 3
   },
   "file_extension": ".py",
   "mimetype": "text/x-python",
   "name": "python",
   "nbconvert_exporter": "python",
   "pygments_lexer": "ipython3",
   "version": "3.12.3"
  }
 },
 "nbformat": 4,
 "nbformat_minor": 5
}
