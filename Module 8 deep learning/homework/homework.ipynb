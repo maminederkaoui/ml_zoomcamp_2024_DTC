{
 "cells": [
  {
   "cell_type": "code",
   "execution_count": 47,
   "id": "1ef8f030-7814-44b8-b7e8-fe746ff153de",
   "metadata": {
    "execution": {
     "iopub.execute_input": "2024-12-05T21:03:48.026977Z",
     "iopub.status.busy": "2024-12-05T21:03:48.026550Z",
     "iopub.status.idle": "2024-12-05T21:03:49.746073Z",
     "shell.execute_reply": "2024-12-05T21:03:49.744819Z",
     "shell.execute_reply.started": "2024-12-05T21:03:48.026906Z"
    },
    "scrolled": false
   },
   "outputs": [],
   "source": [
    "#!pip uninstall tensorflow\n",
    "#!pip install tensorflow==2.17.1\n",
    "#!pip install protobuf==3.20.3"
   ]
  },
  {
   "cell_type": "code",
   "execution_count": 48,
   "id": "43be2166-331f-46fc-9e57-81526a10bb5a",
   "metadata": {},
   "outputs": [],
   "source": [
    "import numpy as np\n",
    "import tensorflow as tf\n"
   ]
  },
  {
   "cell_type": "code",
   "execution_count": 49,
   "id": "b9caad2d",
   "metadata": {},
   "outputs": [
    {
     "name": "stdout",
     "output_type": "stream",
     "text": [
      "1.26.4\n"
     ]
    }
   ],
   "source": [
    "print(np.__version__)"
   ]
  },
  {
   "cell_type": "code",
   "execution_count": 50,
   "id": "d4a6b0ce",
   "metadata": {},
   "outputs": [
    {
     "name": "stdout",
     "output_type": "stream",
     "text": [
      "2.17.1\n"
     ]
    }
   ],
   "source": [
    "print(tf.__version__)"
   ]
  },
  {
   "cell_type": "code",
   "execution_count": 51,
   "id": "e048934f",
   "metadata": {},
   "outputs": [],
   "source": [
    "SEED = 42\n",
    "np.random.seed(SEED)\n",
    "tf.random.set_seed(SEED)"
   ]
  },
  {
   "cell_type": "code",
   "execution_count": 52,
   "id": "7bf5fa42",
   "metadata": {},
   "outputs": [],
   "source": [
    "from tensorflow import keras\n",
    "from tensorflow.keras.models import Sequential\n",
    "from tensorflow.keras.layers import Conv2D, MaxPooling2D, Flatten, Dense\n",
    "from tensorflow.keras.optimizers import SGD"
   ]
  },
  {
   "cell_type": "code",
   "execution_count": 53,
   "id": "a1c09908",
   "metadata": {},
   "outputs": [],
   "source": [
    "# Initialize the model\n",
    "model = Sequential()\n",
    "\n",
    "# Adding the convolutional layer Conv2D\n",
    "model.add(Conv2D(filters=32, kernel_size=(3,3), activation = \"relu\", input_shape=(200,200,3)))\n",
    "\n",
    "# Reduce the size of the featumire map with max pooling MaxPooling2D\n",
    "model.add(MaxPooling2D(pool_size=(2, 2)))\n",
    "\n",
    "# Turn the multi-dimensional result into vectors using a Flatten layer\n",
    "model.add(Flatten())\n",
    "\n",
    "# Add a dense layer with 64 neurons and 'relu' activation\n",
    "model.add(Dense(64, activation='relu'))\n",
    "\n",
    "# create the Dense layer with 1 neuron\n",
    "model.add(Dense(1, activation='sigmoid'))\n",
    "\n",
    "# Compile the model with SGD optimizer\n",
    "optimizer = SGD(learning_rate=0.002, momentum=0.8) \n",
    "model.compile(optimizer=optimizer, loss='binary_crossentropy', metrics=['accuracy'])\n"
   ]
  },
  {
   "cell_type": "markdown",
   "id": "fc69f505",
   "metadata": {},
   "source": [
    "#### Question 1 : \n",
    "Among the list and for the case of binary classification problem, the best loss function is binary crossentropy."
   ]
  },
  {
   "cell_type": "markdown",
   "id": "68ba6c42",
   "metadata": {},
   "source": [
    "#### Question 2 : "
   ]
  },
  {
   "cell_type": "code",
   "execution_count": 54,
   "id": "ec9699eb",
   "metadata": {},
   "outputs": [
    {
     "data": {
      "text/html": [
       "<pre style=\"white-space:pre;overflow-x:auto;line-height:normal;font-family:Menlo,'DejaVu Sans Mono',consolas,'Courier New',monospace\"><span style=\"font-weight: bold\">Model: \"sequential_5\"</span>\n",
       "</pre>\n"
      ],
      "text/plain": [
       "\u001b[1mModel: \"sequential_5\"\u001b[0m\n"
      ]
     },
     "metadata": {},
     "output_type": "display_data"
    },
    {
     "data": {
      "text/html": [
       "<pre style=\"white-space:pre;overflow-x:auto;line-height:normal;font-family:Menlo,'DejaVu Sans Mono',consolas,'Courier New',monospace\">┏━━━━━━━━━━━━━━━━━━━━━━━━━━━━━━━━━┳━━━━━━━━━━━━━━━━━━━━━━━━┳━━━━━━━━━━━━━━━┓\n",
       "┃<span style=\"font-weight: bold\"> Layer (type)                    </span>┃<span style=\"font-weight: bold\"> Output Shape           </span>┃<span style=\"font-weight: bold\">       Param # </span>┃\n",
       "┡━━━━━━━━━━━━━━━━━━━━━━━━━━━━━━━━━╇━━━━━━━━━━━━━━━━━━━━━━━━╇━━━━━━━━━━━━━━━┩\n",
       "│ conv2d_4 (<span style=\"color: #0087ff; text-decoration-color: #0087ff\">Conv2D</span>)               │ (<span style=\"color: #00d7ff; text-decoration-color: #00d7ff\">None</span>, <span style=\"color: #00af00; text-decoration-color: #00af00\">198</span>, <span style=\"color: #00af00; text-decoration-color: #00af00\">198</span>, <span style=\"color: #00af00; text-decoration-color: #00af00\">32</span>)   │           <span style=\"color: #00af00; text-decoration-color: #00af00\">896</span> │\n",
       "├─────────────────────────────────┼────────────────────────┼───────────────┤\n",
       "│ max_pooling2d_4 (<span style=\"color: #0087ff; text-decoration-color: #0087ff\">MaxPooling2D</span>)  │ (<span style=\"color: #00d7ff; text-decoration-color: #00d7ff\">None</span>, <span style=\"color: #00af00; text-decoration-color: #00af00\">99</span>, <span style=\"color: #00af00; text-decoration-color: #00af00\">99</span>, <span style=\"color: #00af00; text-decoration-color: #00af00\">32</span>)     │             <span style=\"color: #00af00; text-decoration-color: #00af00\">0</span> │\n",
       "├─────────────────────────────────┼────────────────────────┼───────────────┤\n",
       "│ flatten_4 (<span style=\"color: #0087ff; text-decoration-color: #0087ff\">Flatten</span>)             │ (<span style=\"color: #00d7ff; text-decoration-color: #00d7ff\">None</span>, <span style=\"color: #00af00; text-decoration-color: #00af00\">313632</span>)         │             <span style=\"color: #00af00; text-decoration-color: #00af00\">0</span> │\n",
       "├─────────────────────────────────┼────────────────────────┼───────────────┤\n",
       "│ dense_8 (<span style=\"color: #0087ff; text-decoration-color: #0087ff\">Dense</span>)                 │ (<span style=\"color: #00d7ff; text-decoration-color: #00d7ff\">None</span>, <span style=\"color: #00af00; text-decoration-color: #00af00\">64</span>)             │    <span style=\"color: #00af00; text-decoration-color: #00af00\">20,072,512</span> │\n",
       "├─────────────────────────────────┼────────────────────────┼───────────────┤\n",
       "│ dense_9 (<span style=\"color: #0087ff; text-decoration-color: #0087ff\">Dense</span>)                 │ (<span style=\"color: #00d7ff; text-decoration-color: #00d7ff\">None</span>, <span style=\"color: #00af00; text-decoration-color: #00af00\">1</span>)              │            <span style=\"color: #00af00; text-decoration-color: #00af00\">65</span> │\n",
       "└─────────────────────────────────┴────────────────────────┴───────────────┘\n",
       "</pre>\n"
      ],
      "text/plain": [
       "┏━━━━━━━━━━━━━━━━━━━━━━━━━━━━━━━━━┳━━━━━━━━━━━━━━━━━━━━━━━━┳━━━━━━━━━━━━━━━┓\n",
       "┃\u001b[1m \u001b[0m\u001b[1mLayer (type)                   \u001b[0m\u001b[1m \u001b[0m┃\u001b[1m \u001b[0m\u001b[1mOutput Shape          \u001b[0m\u001b[1m \u001b[0m┃\u001b[1m \u001b[0m\u001b[1m      Param #\u001b[0m\u001b[1m \u001b[0m┃\n",
       "┡━━━━━━━━━━━━━━━━━━━━━━━━━━━━━━━━━╇━━━━━━━━━━━━━━━━━━━━━━━━╇━━━━━━━━━━━━━━━┩\n",
       "│ conv2d_4 (\u001b[38;5;33mConv2D\u001b[0m)               │ (\u001b[38;5;45mNone\u001b[0m, \u001b[38;5;34m198\u001b[0m, \u001b[38;5;34m198\u001b[0m, \u001b[38;5;34m32\u001b[0m)   │           \u001b[38;5;34m896\u001b[0m │\n",
       "├─────────────────────────────────┼────────────────────────┼───────────────┤\n",
       "│ max_pooling2d_4 (\u001b[38;5;33mMaxPooling2D\u001b[0m)  │ (\u001b[38;5;45mNone\u001b[0m, \u001b[38;5;34m99\u001b[0m, \u001b[38;5;34m99\u001b[0m, \u001b[38;5;34m32\u001b[0m)     │             \u001b[38;5;34m0\u001b[0m │\n",
       "├─────────────────────────────────┼────────────────────────┼───────────────┤\n",
       "│ flatten_4 (\u001b[38;5;33mFlatten\u001b[0m)             │ (\u001b[38;5;45mNone\u001b[0m, \u001b[38;5;34m313632\u001b[0m)         │             \u001b[38;5;34m0\u001b[0m │\n",
       "├─────────────────────────────────┼────────────────────────┼───────────────┤\n",
       "│ dense_8 (\u001b[38;5;33mDense\u001b[0m)                 │ (\u001b[38;5;45mNone\u001b[0m, \u001b[38;5;34m64\u001b[0m)             │    \u001b[38;5;34m20,072,512\u001b[0m │\n",
       "├─────────────────────────────────┼────────────────────────┼───────────────┤\n",
       "│ dense_9 (\u001b[38;5;33mDense\u001b[0m)                 │ (\u001b[38;5;45mNone\u001b[0m, \u001b[38;5;34m1\u001b[0m)              │            \u001b[38;5;34m65\u001b[0m │\n",
       "└─────────────────────────────────┴────────────────────────┴───────────────┘\n"
      ]
     },
     "metadata": {},
     "output_type": "display_data"
    },
    {
     "data": {
      "text/html": [
       "<pre style=\"white-space:pre;overflow-x:auto;line-height:normal;font-family:Menlo,'DejaVu Sans Mono',consolas,'Courier New',monospace\"><span style=\"font-weight: bold\"> Total params: </span><span style=\"color: #00af00; text-decoration-color: #00af00\">20,073,473</span> (76.57 MB)\n",
       "</pre>\n"
      ],
      "text/plain": [
       "\u001b[1m Total params: \u001b[0m\u001b[38;5;34m20,073,473\u001b[0m (76.57 MB)\n"
      ]
     },
     "metadata": {},
     "output_type": "display_data"
    },
    {
     "data": {
      "text/html": [
       "<pre style=\"white-space:pre;overflow-x:auto;line-height:normal;font-family:Menlo,'DejaVu Sans Mono',consolas,'Courier New',monospace\"><span style=\"font-weight: bold\"> Trainable params: </span><span style=\"color: #00af00; text-decoration-color: #00af00\">20,073,473</span> (76.57 MB)\n",
       "</pre>\n"
      ],
      "text/plain": [
       "\u001b[1m Trainable params: \u001b[0m\u001b[38;5;34m20,073,473\u001b[0m (76.57 MB)\n"
      ]
     },
     "metadata": {},
     "output_type": "display_data"
    },
    {
     "data": {
      "text/html": [
       "<pre style=\"white-space:pre;overflow-x:auto;line-height:normal;font-family:Menlo,'DejaVu Sans Mono',consolas,'Courier New',monospace\"><span style=\"font-weight: bold\"> Non-trainable params: </span><span style=\"color: #00af00; text-decoration-color: #00af00\">0</span> (0.00 B)\n",
       "</pre>\n"
      ],
      "text/plain": [
       "\u001b[1m Non-trainable params: \u001b[0m\u001b[38;5;34m0\u001b[0m (0.00 B)\n"
      ]
     },
     "metadata": {},
     "output_type": "display_data"
    }
   ],
   "source": [
    "model.summary()"
   ]
  },
  {
   "cell_type": "markdown",
   "id": "7d392468",
   "metadata": {},
   "source": [
    "The total number of parameters of the model is 20,073,473. The close answer is 20 072 512. "
   ]
  },
  {
   "cell_type": "markdown",
   "id": "710faa05",
   "metadata": {},
   "source": [
    "### Generators and Training"
   ]
  },
  {
   "cell_type": "code",
   "execution_count": 55,
   "id": "4bf62c40",
   "metadata": {},
   "outputs": [],
   "source": [
    "from tensorflow.keras.preprocessing.image import ImageDataGenerator"
   ]
  },
  {
   "cell_type": "code",
   "execution_count": 56,
   "id": "69f47101",
   "metadata": {},
   "outputs": [
    {
     "name": "stdout",
     "output_type": "stream",
     "text": [
      "Found 800 images belonging to 2 classes.\n",
      "Found 201 images belonging to 2 classes.\n"
     ]
    }
   ],
   "source": [
    "train_generator = ImageDataGenerator(rescale=1./255)\n",
    "\n",
    "train_ds = train_generator.flow_from_directory(\n",
    "    './data/train',\n",
    "    target_size=(200, 200),  \n",
    "    batch_size=20,\n",
    "    class_mode='binary', \n",
    "    shuffle=True           \n",
    ")\n",
    "\n",
    "test_generator = ImageDataGenerator(rescale=1./255)\n",
    "\n",
    "test_ds = test_generator.flow_from_directory(\n",
    "    './data/test',\n",
    "    target_size=(200, 200),  \n",
    "    batch_size=20,\n",
    "    class_mode='binary', \n",
    "    shuffle=True           \n",
    ")"
   ]
  },
  {
   "cell_type": "code",
   "execution_count": 57,
   "id": "bd1ce193",
   "metadata": {},
   "outputs": [
    {
     "name": "stdout",
     "output_type": "stream",
     "text": [
      "Epoch 1/10\n",
      "\u001b[1m40/40\u001b[0m \u001b[32m━━━━━━━━━━━━━━━━━━━━\u001b[0m\u001b[37m\u001b[0m \u001b[1m11s\u001b[0m 251ms/step - accuracy: 0.5649 - loss: 0.6871 - val_accuracy: 0.6318 - val_loss: 0.6238\n",
      "Epoch 2/10\n",
      "\u001b[1m40/40\u001b[0m \u001b[32m━━━━━━━━━━━━━━━━━━━━\u001b[0m\u001b[37m\u001b[0m \u001b[1m10s\u001b[0m 237ms/step - accuracy: 0.6991 - loss: 0.5857 - val_accuracy: 0.6368 - val_loss: 0.6439\n",
      "Epoch 3/10\n",
      "\u001b[1m40/40\u001b[0m \u001b[32m━━━━━━━━━━━━━━━━━━━━\u001b[0m\u001b[37m\u001b[0m \u001b[1m10s\u001b[0m 237ms/step - accuracy: 0.7037 - loss: 0.5550 - val_accuracy: 0.6269 - val_loss: 0.6232\n",
      "Epoch 4/10\n",
      "\u001b[1m40/40\u001b[0m \u001b[32m━━━━━━━━━━━━━━━━━━━━\u001b[0m\u001b[37m\u001b[0m \u001b[1m10s\u001b[0m 239ms/step - accuracy: 0.7298 - loss: 0.5632 - val_accuracy: 0.6567 - val_loss: 0.6155\n",
      "Epoch 5/10\n",
      "\u001b[1m40/40\u001b[0m \u001b[32m━━━━━━━━━━━━━━━━━━━━\u001b[0m\u001b[37m\u001b[0m \u001b[1m10s\u001b[0m 237ms/step - accuracy: 0.7303 - loss: 0.5278 - val_accuracy: 0.6617 - val_loss: 0.5871\n",
      "Epoch 6/10\n",
      "\u001b[1m40/40\u001b[0m \u001b[32m━━━━━━━━━━━━━━━━━━━━\u001b[0m\u001b[37m\u001b[0m \u001b[1m9s\u001b[0m 230ms/step - accuracy: 0.7620 - loss: 0.4704 - val_accuracy: 0.6617 - val_loss: 0.6067\n",
      "Epoch 7/10\n",
      "\u001b[1m40/40\u001b[0m \u001b[32m━━━━━━━━━━━━━━━━━━━━\u001b[0m\u001b[37m\u001b[0m \u001b[1m10s\u001b[0m 238ms/step - accuracy: 0.7745 - loss: 0.4756 - val_accuracy: 0.6667 - val_loss: 0.5717\n",
      "Epoch 8/10\n",
      "\u001b[1m40/40\u001b[0m \u001b[32m━━━━━━━━━━━━━━━━━━━━\u001b[0m\u001b[37m\u001b[0m \u001b[1m9s\u001b[0m 237ms/step - accuracy: 0.7895 - loss: 0.4494 - val_accuracy: 0.6617 - val_loss: 0.6191\n",
      "Epoch 9/10\n",
      "\u001b[1m40/40\u001b[0m \u001b[32m━━━━━━━━━━━━━━━━━━━━\u001b[0m\u001b[37m\u001b[0m \u001b[1m10s\u001b[0m 236ms/step - accuracy: 0.7637 - loss: 0.4386 - val_accuracy: 0.6816 - val_loss: 0.5634\n",
      "Epoch 10/10\n",
      "\u001b[1m40/40\u001b[0m \u001b[32m━━━━━━━━━━━━━━━━━━━━\u001b[0m\u001b[37m\u001b[0m \u001b[1m10s\u001b[0m 239ms/step - accuracy: 0.8288 - loss: 0.3968 - val_accuracy: 0.6567 - val_loss: 0.7286\n"
     ]
    }
   ],
   "source": [
    "history = model.fit(train_ds, epochs=10, validation_data=test_ds)"
   ]
  },
  {
   "cell_type": "code",
   "execution_count": 58,
   "id": "7646e35f",
   "metadata": {},
   "outputs": [
    {
     "data": {
      "text/plain": [
       "[0.5987499952316284,\n",
       " 0.6825000047683716,\n",
       " 0.7024999856948853,\n",
       " 0.7275000214576721,\n",
       " 0.7350000143051147,\n",
       " 0.7487499713897705,\n",
       " 0.78125,\n",
       " 0.7975000143051147,\n",
       " 0.768750011920929,\n",
       " 0.8262500166893005]"
      ]
     },
     "execution_count": 58,
     "metadata": {},
     "output_type": "execute_result"
    }
   ],
   "source": [
    "history.history['accuracy']"
   ]
  },
  {
   "cell_type": "code",
   "execution_count": 61,
   "id": "a22ace6f",
   "metadata": {},
   "outputs": [
    {
     "data": {
      "text/plain": [
       "0.7418749928474426"
      ]
     },
     "execution_count": 61,
     "metadata": {},
     "output_type": "execute_result"
    }
   ],
   "source": [
    "np.median(history.history['accuracy'])"
   ]
  },
  {
   "cell_type": "markdown",
   "id": "669ff842",
   "metadata": {},
   "source": [
    "#### Question 3 :\n",
    "Median of training accuracy for all the epochs for the model is 0.74, close to the answer of 0.72"
   ]
  },
  {
   "cell_type": "code",
   "execution_count": 62,
   "id": "5ca133c4",
   "metadata": {},
   "outputs": [
    {
     "data": {
      "text/plain": [
       "0.07758409520271932"
      ]
     },
     "execution_count": 62,
     "metadata": {},
     "output_type": "execute_result"
    }
   ],
   "source": [
    "np.std(history.history['loss'])"
   ]
  },
  {
   "cell_type": "markdown",
   "id": "11067e6d",
   "metadata": {},
   "source": [
    "#### Question 4 :\n",
    "Standard deviation of training loss for all the epochs for the model is 0.077, close to the answer of 0.068"
   ]
  },
  {
   "cell_type": "markdown",
   "id": "1fb31528",
   "metadata": {},
   "source": [
    "### Training the model using data augmentations"
   ]
  },
  {
   "cell_type": "code",
   "execution_count": 63,
   "id": "475f137e",
   "metadata": {},
   "outputs": [
    {
     "name": "stdout",
     "output_type": "stream",
     "text": [
      "Found 800 images belonging to 2 classes.\n"
     ]
    }
   ],
   "source": [
    "train_generator = ImageDataGenerator(\n",
    "    rescale=1./255,\n",
    "    rotation_range=50,\n",
    "    width_shift_range=0.1,\n",
    "    height_shift_range=0.1,\n",
    "    zoom_range=0.1,\n",
    "    horizontal_flip=True,\n",
    "    fill_mode='nearest'\n",
    ")\n",
    "\n",
    "train_ds = train_generator.flow_from_directory(\n",
    "    './data/train',\n",
    "    target_size=(200, 200),  \n",
    "    batch_size=20,\n",
    "    class_mode='binary', \n",
    "    shuffle=True           \n",
    ")"
   ]
  },
  {
   "cell_type": "code",
   "execution_count": 64,
   "id": "216e80b6",
   "metadata": {},
   "outputs": [
    {
     "name": "stdout",
     "output_type": "stream",
     "text": [
      "Epoch 1/10\n",
      "\u001b[1m40/40\u001b[0m \u001b[32m━━━━━━━━━━━━━━━━━━━━\u001b[0m\u001b[37m\u001b[0m \u001b[1m15s\u001b[0m 382ms/step - accuracy: 0.6380 - loss: 0.6672 - val_accuracy: 0.6766 - val_loss: 0.6423\n",
      "Epoch 2/10\n",
      "\u001b[1m40/40\u001b[0m \u001b[32m━━━━━━━━━━━━━━━━━━━━\u001b[0m\u001b[37m\u001b[0m \u001b[1m15s\u001b[0m 368ms/step - accuracy: 0.6652 - loss: 0.5901 - val_accuracy: 0.6965 - val_loss: 0.5942\n",
      "Epoch 3/10\n",
      "\u001b[1m40/40\u001b[0m \u001b[32m━━━━━━━━━━━━━━━━━━━━\u001b[0m\u001b[37m\u001b[0m \u001b[1m15s\u001b[0m 379ms/step - accuracy: 0.6442 - loss: 0.6326 - val_accuracy: 0.7114 - val_loss: 0.5330\n",
      "Epoch 4/10\n",
      "\u001b[1m40/40\u001b[0m \u001b[32m━━━━━━━━━━━━━━━━━━━━\u001b[0m\u001b[37m\u001b[0m \u001b[1m15s\u001b[0m 374ms/step - accuracy: 0.7067 - loss: 0.5669 - val_accuracy: 0.6667 - val_loss: 0.5791\n",
      "Epoch 5/10\n",
      "\u001b[1m40/40\u001b[0m \u001b[32m━━━━━━━━━━━━━━━━━━━━\u001b[0m\u001b[37m\u001b[0m \u001b[1m15s\u001b[0m 376ms/step - accuracy: 0.6961 - loss: 0.5706 - val_accuracy: 0.7264 - val_loss: 0.5269\n",
      "Epoch 6/10\n",
      "\u001b[1m40/40\u001b[0m \u001b[32m━━━━━━━━━━━━━━━━━━━━\u001b[0m\u001b[37m\u001b[0m \u001b[1m15s\u001b[0m 375ms/step - accuracy: 0.7024 - loss: 0.5529 - val_accuracy: 0.7164 - val_loss: 0.5607\n",
      "Epoch 7/10\n",
      "\u001b[1m40/40\u001b[0m \u001b[32m━━━━━━━━━━━━━━━━━━━━\u001b[0m\u001b[37m\u001b[0m \u001b[1m15s\u001b[0m 371ms/step - accuracy: 0.6858 - loss: 0.5613 - val_accuracy: 0.7114 - val_loss: 0.5657\n",
      "Epoch 8/10\n",
      "\u001b[1m40/40\u001b[0m \u001b[32m━━━━━━━━━━━━━━━━━━━━\u001b[0m\u001b[37m\u001b[0m \u001b[1m15s\u001b[0m 377ms/step - accuracy: 0.7001 - loss: 0.5653 - val_accuracy: 0.7363 - val_loss: 0.5166\n",
      "Epoch 9/10\n",
      "\u001b[1m40/40\u001b[0m \u001b[32m━━━━━━━━━━━━━━━━━━━━\u001b[0m\u001b[37m\u001b[0m \u001b[1m15s\u001b[0m 376ms/step - accuracy: 0.7362 - loss: 0.5271 - val_accuracy: 0.6418 - val_loss: 0.6441\n",
      "Epoch 10/10\n",
      "\u001b[1m40/40\u001b[0m \u001b[32m━━━━━━━━━━━━━━━━━━━━\u001b[0m\u001b[37m\u001b[0m \u001b[1m15s\u001b[0m 374ms/step - accuracy: 0.7020 - loss: 0.5459 - val_accuracy: 0.7363 - val_loss: 0.5387\n"
     ]
    }
   ],
   "source": [
    "history = model.fit(\n",
    "    train_ds, \n",
    "    epochs=10, \n",
    "    validation_data=test_ds)"
   ]
  },
  {
   "cell_type": "code",
   "execution_count": 68,
   "id": "2596edb7",
   "metadata": {},
   "outputs": [
    {
     "data": {
      "text/plain": [
       "0.5701210200786591"
      ]
     },
     "execution_count": 68,
     "metadata": {},
     "output_type": "execute_result"
    }
   ],
   "source": [
    "np.mean(history.history['val_loss'])"
   ]
  },
  {
   "cell_type": "code",
   "execution_count": 66,
   "id": "3dcd57bc",
   "metadata": {},
   "outputs": [
    {
     "data": {
      "text/plain": [
       "[0.560728132724762,\n",
       " 0.5656715035438538,\n",
       " 0.5165605545043945,\n",
       " 0.6440590023994446,\n",
       " 0.5386602878570557]"
      ]
     },
     "execution_count": 66,
     "metadata": {},
     "output_type": "execute_result"
    }
   ],
   "source": [
    "history.history['val_loss'][-5:]"
   ]
  },
  {
   "cell_type": "markdown",
   "id": "61d477b5",
   "metadata": {},
   "source": [
    "#### Question 5 :\n",
    "Mean of test loss for all the epochs for the model trained with augmentations is 0.57, close to the answer of 0.56"
   ]
  },
  {
   "cell_type": "code",
   "execution_count": 69,
   "id": "05fa0086",
   "metadata": {},
   "outputs": [
    {
     "data": {
      "text/plain": [
       "0.7084577083587646"
      ]
     },
     "execution_count": 69,
     "metadata": {},
     "output_type": "execute_result"
    }
   ],
   "source": [
    "np.mean(history.history['val_accuracy'][-5:])"
   ]
  },
  {
   "cell_type": "markdown",
   "id": "d67a8f22",
   "metadata": {},
   "source": [
    "#### Question 6 :\n",
    "Average of test accuracy for the last 5 epochs (from 6 to 10) for the model trained with augmentations is 0.71, close to the answer of 0.71"
   ]
  },
  {
   "cell_type": "code",
   "execution_count": null,
   "id": "953da7b9",
   "metadata": {},
   "outputs": [],
   "source": []
  }
 ],
 "metadata": {
  "kernelspec": {
   "display_name": "saturn (Python 3)",
   "language": "python",
   "name": "python3"
  },
  "language_info": {
   "codemirror_mode": {
    "name": "ipython",
    "version": 3
   },
   "file_extension": ".py",
   "mimetype": "text/x-python",
   "name": "python",
   "nbconvert_exporter": "python",
   "pygments_lexer": "ipython3",
   "version": "3.9.13"
  }
 },
 "nbformat": 4,
 "nbformat_minor": 5
}
